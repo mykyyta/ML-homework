{
 "cells": [
  {
   "cell_type": "code",
   "execution_count": 1,
   "id": "ab6ca907-7784-4b0d-8e0c-30aeb5bcdc10",
   "metadata": {},
   "outputs": [],
   "source": [
    "import pandas as pd\n",
    "import numpy as np\n",
    "import matplotlib.pyplot as plt\n",
    "import seaborn as sns"
   ]
  },
  {
   "cell_type": "code",
   "execution_count": 2,
   "id": "9041a004-582b-4c64-9bee-71abec2bb200",
   "metadata": {},
   "outputs": [],
   "source": [
    "%load_ext autoreload\n",
    "%autoreload 2"
   ]
  },
  {
   "cell_type": "code",
   "execution_count": 3,
   "id": "feaab874-61d5-4af7-a610-b903dc30c2b6",
   "metadata": {},
   "outputs": [
    {
     "name": "stdout",
     "output_type": "stream",
     "text": [
      "   name     role         type demographic description units missing_values\n",
      "0   A16   Target  Categorical        None        None  None             no\n",
      "1   A15  Feature   Continuous        None        None  None             no\n",
      "2   A14  Feature   Continuous        None        None  None            yes\n",
      "3   A13  Feature  Categorical        None        None  None             no\n",
      "4   A12  Feature  Categorical        None        None  None             no\n",
      "5   A11  Feature   Continuous        None        None  None             no\n",
      "6   A10  Feature  Categorical        None        None  None             no\n",
      "7    A9  Feature  Categorical        None        None  None             no\n",
      "8    A8  Feature   Continuous        None        None  None             no\n",
      "9    A7  Feature  Categorical        None        None  None            yes\n",
      "10   A6  Feature  Categorical        None        None  None            yes\n",
      "11   A5  Feature  Categorical        None        None  None            yes\n",
      "12   A4  Feature  Categorical        None        None  None            yes\n",
      "13   A3  Feature   Continuous        None        None  None             no\n",
      "14   A2  Feature   Continuous        None        None  None            yes\n",
      "15   A1  Feature  Categorical        None        None  None            yes\n"
     ]
    }
   ],
   "source": [
    "from ucimlrepo import fetch_ucirepo \n",
    "  \n",
    "# fetch dataset \n",
    "credit_approval = fetch_ucirepo(id=27) \n",
    "  \n",
    "# data (as pandas dataframes) \n",
    "X = credit_approval.data.features \n",
    "y = credit_approval.data.targets \n",
    "data = X.copy()\n",
    "\n",
    "# variable information \n",
    "print(credit_approval.variables) "
   ]
  },
  {
   "cell_type": "code",
   "execution_count": 4,
   "id": "35ac299e-9236-4088-8118-d9e6469647e4",
   "metadata": {},
   "outputs": [
    {
     "name": "stdout",
     "output_type": "stream",
     "text": [
      "uci_id: 27\n",
      "name: Credit Approval\n",
      "repository_url: https://archive.ics.uci.edu/dataset/27/credit+approval\n",
      "data_url: https://archive.ics.uci.edu/static/public/27/data.csv\n",
      "abstract: This data concerns credit card applications; good mix of attributes\n",
      "area: Business\n",
      "tasks: ['Classification']\n",
      "characteristics: ['Multivariate']\n",
      "num_instances: 690\n",
      "num_features: 15\n",
      "feature_types: ['Categorical', 'Integer', 'Real']\n",
      "demographics: []\n",
      "target_col: ['A16']\n",
      "index_col: None\n",
      "has_missing_values: yes\n",
      "missing_values_symbol: NaN\n",
      "year_of_dataset_creation: 1987\n",
      "last_updated: Wed Aug 23 2023\n",
      "dataset_doi: 10.24432/C5FS30\n",
      "creators: ['J. R. Quinlan']\n",
      "intro_paper: None\n",
      "summary: This file concerns credit card applications.  All attribute names and values have been changed to meaningless symbols to protect confidentiality of the data.\n",
      "  \n",
      "This dataset is interesting because there is a good mix of attributes -- continuous, nominal with small numbers of values, and nominal with larger numbers of values.  There are also a few missing values.\n",
      "purpose: None\n",
      "funded_by: None\n",
      "instances_represent: None\n",
      "recommended_data_splits: None\n",
      "sensitive_data: None\n",
      "preprocessing_description: None\n",
      "variable_info: A1:\tb, a.\n",
      "A2:\tcontinuous.\n",
      "A3:\tcontinuous.\n",
      "A4:\tu, y, l, t.\n",
      "A5:\tg, p, gg.\n",
      "A6:\tc, d, cc, i, j, k, m, r, q, w, x, e, aa, ff.\n",
      "A7:\tv, h, bb, j, n, z, dd, ff, o.\n",
      "A8:\tcontinuous.\n",
      "A9:\tt, f.\n",
      "A10:\tt, f.\n",
      "A11:\tcontinuous.\n",
      "A12:\tt, f.\n",
      "A13:\tg, p, s.\n",
      "A14:\tcontinuous.\n",
      "A15:\tcontinuous.\n",
      "A16: +,-         (class attribute)\n",
      "citation: None\n"
     ]
    }
   ],
   "source": [
    "#print dictionary with metadata\n",
    "for key, value in credit_approval.metadata.items():\n",
    "    if isinstance(value, dict):\n",
    "        for k, v in value.items():\n",
    "            print(f'{k}: {v}')\n",
    "    else:\n",
    "        print(f'{key}: {value}')"
   ]
  },
  {
   "cell_type": "code",
   "execution_count": 5,
   "id": "d07563e0-d6c2-4983-83e2-ba1ef37bc751",
   "metadata": {},
   "outputs": [],
   "source": [
    "dataset = pd.concat([X, y], axis=1)"
   ]
  },
  {
   "cell_type": "markdown",
   "id": "21f6320f-3850-41af-81b2-22055294100b",
   "metadata": {},
   "source": [
    "### EDA"
   ]
  },
  {
   "cell_type": "code",
   "execution_count": 7,
   "id": "f273a370-2c98-4456-873a-e7f29213eaae",
   "metadata": {},
   "outputs": [
    {
     "data": {
      "text/plain": [
       "(690, 16)"
      ]
     },
     "execution_count": 7,
     "metadata": {},
     "output_type": "execute_result"
    }
   ],
   "source": [
    "dataset.shape"
   ]
  },
  {
   "cell_type": "code",
   "execution_count": 8,
   "id": "c2286200-739d-4765-9d16-73468249b071",
   "metadata": {},
   "outputs": [
    {
     "data": {
      "text/html": [
       "<div>\n",
       "<style scoped>\n",
       "    .dataframe tbody tr th:only-of-type {\n",
       "        vertical-align: middle;\n",
       "    }\n",
       "\n",
       "    .dataframe tbody tr th {\n",
       "        vertical-align: top;\n",
       "    }\n",
       "\n",
       "    .dataframe thead th {\n",
       "        text-align: right;\n",
       "    }\n",
       "</style>\n",
       "<table border=\"1\" class=\"dataframe\">\n",
       "  <thead>\n",
       "    <tr style=\"text-align: right;\">\n",
       "      <th></th>\n",
       "      <th>A15</th>\n",
       "      <th>A14</th>\n",
       "      <th>A11</th>\n",
       "      <th>A8</th>\n",
       "      <th>A3</th>\n",
       "      <th>A2</th>\n",
       "    </tr>\n",
       "  </thead>\n",
       "  <tbody>\n",
       "    <tr>\n",
       "      <th>count</th>\n",
       "      <td>690.000000</td>\n",
       "      <td>677.000000</td>\n",
       "      <td>690.00000</td>\n",
       "      <td>690.000000</td>\n",
       "      <td>690.000000</td>\n",
       "      <td>678.000000</td>\n",
       "    </tr>\n",
       "    <tr>\n",
       "      <th>mean</th>\n",
       "      <td>1017.385507</td>\n",
       "      <td>184.014771</td>\n",
       "      <td>2.40000</td>\n",
       "      <td>2.223406</td>\n",
       "      <td>4.758725</td>\n",
       "      <td>31.568171</td>\n",
       "    </tr>\n",
       "    <tr>\n",
       "      <th>std</th>\n",
       "      <td>5210.102598</td>\n",
       "      <td>173.806768</td>\n",
       "      <td>4.86294</td>\n",
       "      <td>3.346513</td>\n",
       "      <td>4.978163</td>\n",
       "      <td>11.957862</td>\n",
       "    </tr>\n",
       "    <tr>\n",
       "      <th>min</th>\n",
       "      <td>0.000000</td>\n",
       "      <td>0.000000</td>\n",
       "      <td>0.00000</td>\n",
       "      <td>0.000000</td>\n",
       "      <td>0.000000</td>\n",
       "      <td>13.750000</td>\n",
       "    </tr>\n",
       "    <tr>\n",
       "      <th>25%</th>\n",
       "      <td>0.000000</td>\n",
       "      <td>75.000000</td>\n",
       "      <td>0.00000</td>\n",
       "      <td>0.165000</td>\n",
       "      <td>1.000000</td>\n",
       "      <td>22.602500</td>\n",
       "    </tr>\n",
       "    <tr>\n",
       "      <th>50%</th>\n",
       "      <td>5.000000</td>\n",
       "      <td>160.000000</td>\n",
       "      <td>0.00000</td>\n",
       "      <td>1.000000</td>\n",
       "      <td>2.750000</td>\n",
       "      <td>28.460000</td>\n",
       "    </tr>\n",
       "    <tr>\n",
       "      <th>75%</th>\n",
       "      <td>395.500000</td>\n",
       "      <td>276.000000</td>\n",
       "      <td>3.00000</td>\n",
       "      <td>2.625000</td>\n",
       "      <td>7.207500</td>\n",
       "      <td>38.230000</td>\n",
       "    </tr>\n",
       "    <tr>\n",
       "      <th>max</th>\n",
       "      <td>100000.000000</td>\n",
       "      <td>2000.000000</td>\n",
       "      <td>67.00000</td>\n",
       "      <td>28.500000</td>\n",
       "      <td>28.000000</td>\n",
       "      <td>80.250000</td>\n",
       "    </tr>\n",
       "  </tbody>\n",
       "</table>\n",
       "</div>"
      ],
      "text/plain": [
       "                 A15          A14        A11          A8          A3  \\\n",
       "count     690.000000   677.000000  690.00000  690.000000  690.000000   \n",
       "mean     1017.385507   184.014771    2.40000    2.223406    4.758725   \n",
       "std      5210.102598   173.806768    4.86294    3.346513    4.978163   \n",
       "min         0.000000     0.000000    0.00000    0.000000    0.000000   \n",
       "25%         0.000000    75.000000    0.00000    0.165000    1.000000   \n",
       "50%         5.000000   160.000000    0.00000    1.000000    2.750000   \n",
       "75%       395.500000   276.000000    3.00000    2.625000    7.207500   \n",
       "max    100000.000000  2000.000000   67.00000   28.500000   28.000000   \n",
       "\n",
       "               A2  \n",
       "count  678.000000  \n",
       "mean    31.568171  \n",
       "std     11.957862  \n",
       "min     13.750000  \n",
       "25%     22.602500  \n",
       "50%     28.460000  \n",
       "75%     38.230000  \n",
       "max     80.250000  "
      ]
     },
     "execution_count": 8,
     "metadata": {},
     "output_type": "execute_result"
    }
   ],
   "source": [
    "dataset.describe()"
   ]
  },
  {
   "cell_type": "code",
   "execution_count": 9,
   "id": "0571ffb8-2d44-439a-a63b-9e3ea6f38f85",
   "metadata": {},
   "outputs": [
    {
     "data": {
      "text/html": [
       "<div>\n",
       "<style scoped>\n",
       "    .dataframe tbody tr th:only-of-type {\n",
       "        vertical-align: middle;\n",
       "    }\n",
       "\n",
       "    .dataframe tbody tr th {\n",
       "        vertical-align: top;\n",
       "    }\n",
       "\n",
       "    .dataframe thead th {\n",
       "        text-align: right;\n",
       "    }\n",
       "</style>\n",
       "<table border=\"1\" class=\"dataframe\">\n",
       "  <thead>\n",
       "    <tr style=\"text-align: right;\">\n",
       "      <th></th>\n",
       "      <th>A15</th>\n",
       "      <th>A14</th>\n",
       "      <th>A13</th>\n",
       "      <th>A12</th>\n",
       "      <th>A11</th>\n",
       "      <th>A10</th>\n",
       "      <th>A9</th>\n",
       "      <th>A8</th>\n",
       "      <th>A7</th>\n",
       "      <th>A6</th>\n",
       "      <th>A5</th>\n",
       "      <th>A4</th>\n",
       "      <th>A3</th>\n",
       "      <th>A2</th>\n",
       "      <th>A1</th>\n",
       "      <th>A16</th>\n",
       "    </tr>\n",
       "  </thead>\n",
       "  <tbody>\n",
       "    <tr>\n",
       "      <th>0</th>\n",
       "      <td>0</td>\n",
       "      <td>202.0</td>\n",
       "      <td>g</td>\n",
       "      <td>f</td>\n",
       "      <td>1</td>\n",
       "      <td>t</td>\n",
       "      <td>t</td>\n",
       "      <td>1.25</td>\n",
       "      <td>v</td>\n",
       "      <td>w</td>\n",
       "      <td>g</td>\n",
       "      <td>u</td>\n",
       "      <td>0.000</td>\n",
       "      <td>30.83</td>\n",
       "      <td>b</td>\n",
       "      <td>+</td>\n",
       "    </tr>\n",
       "    <tr>\n",
       "      <th>1</th>\n",
       "      <td>560</td>\n",
       "      <td>43.0</td>\n",
       "      <td>g</td>\n",
       "      <td>f</td>\n",
       "      <td>6</td>\n",
       "      <td>t</td>\n",
       "      <td>t</td>\n",
       "      <td>3.04</td>\n",
       "      <td>h</td>\n",
       "      <td>q</td>\n",
       "      <td>g</td>\n",
       "      <td>u</td>\n",
       "      <td>4.460</td>\n",
       "      <td>58.67</td>\n",
       "      <td>a</td>\n",
       "      <td>+</td>\n",
       "    </tr>\n",
       "    <tr>\n",
       "      <th>2</th>\n",
       "      <td>824</td>\n",
       "      <td>280.0</td>\n",
       "      <td>g</td>\n",
       "      <td>f</td>\n",
       "      <td>0</td>\n",
       "      <td>f</td>\n",
       "      <td>t</td>\n",
       "      <td>1.50</td>\n",
       "      <td>h</td>\n",
       "      <td>q</td>\n",
       "      <td>g</td>\n",
       "      <td>u</td>\n",
       "      <td>0.500</td>\n",
       "      <td>24.50</td>\n",
       "      <td>a</td>\n",
       "      <td>+</td>\n",
       "    </tr>\n",
       "    <tr>\n",
       "      <th>3</th>\n",
       "      <td>3</td>\n",
       "      <td>100.0</td>\n",
       "      <td>g</td>\n",
       "      <td>t</td>\n",
       "      <td>5</td>\n",
       "      <td>t</td>\n",
       "      <td>t</td>\n",
       "      <td>3.75</td>\n",
       "      <td>v</td>\n",
       "      <td>w</td>\n",
       "      <td>g</td>\n",
       "      <td>u</td>\n",
       "      <td>1.540</td>\n",
       "      <td>27.83</td>\n",
       "      <td>b</td>\n",
       "      <td>+</td>\n",
       "    </tr>\n",
       "    <tr>\n",
       "      <th>4</th>\n",
       "      <td>0</td>\n",
       "      <td>120.0</td>\n",
       "      <td>s</td>\n",
       "      <td>f</td>\n",
       "      <td>0</td>\n",
       "      <td>f</td>\n",
       "      <td>t</td>\n",
       "      <td>1.71</td>\n",
       "      <td>v</td>\n",
       "      <td>w</td>\n",
       "      <td>g</td>\n",
       "      <td>u</td>\n",
       "      <td>5.625</td>\n",
       "      <td>20.17</td>\n",
       "      <td>b</td>\n",
       "      <td>+</td>\n",
       "    </tr>\n",
       "  </tbody>\n",
       "</table>\n",
       "</div>"
      ],
      "text/plain": [
       "   A15    A14 A13 A12  A11 A10 A9    A8 A7 A6 A5 A4     A3     A2 A1 A16\n",
       "0    0  202.0   g   f    1   t  t  1.25  v  w  g  u  0.000  30.83  b   +\n",
       "1  560   43.0   g   f    6   t  t  3.04  h  q  g  u  4.460  58.67  a   +\n",
       "2  824  280.0   g   f    0   f  t  1.50  h  q  g  u  0.500  24.50  a   +\n",
       "3    3  100.0   g   t    5   t  t  3.75  v  w  g  u  1.540  27.83  b   +\n",
       "4    0  120.0   s   f    0   f  t  1.71  v  w  g  u  5.625  20.17  b   +"
      ]
     },
     "execution_count": 9,
     "metadata": {},
     "output_type": "execute_result"
    }
   ],
   "source": [
    "dataset.head()"
   ]
  },
  {
   "cell_type": "code",
   "execution_count": 10,
   "id": "8866bb17-26a7-4e99-a54f-e10c62a62251",
   "metadata": {},
   "outputs": [
    {
     "data": {
      "text/plain": [
       "<Axes: >"
      ]
     },
     "execution_count": 10,
     "metadata": {},
     "output_type": "execute_result"
    },
    {
     "data": {
      "image/png": "[encoded data removed]",
      "text/plain": [
       "<Figure size 640x480 with 1 Axes>"
      ]
     },
     "metadata": {},
     "output_type": "display_data"
    }
   ],
   "source": [
    "#visualize missing values\n",
    "plt.tick_params(axis='both', which='major', labelsize=8, labelbottom = True, bottom=False, top = False, labeltop=True)\n",
    "sns.heatmap(dataset.isna(), cbar=False, cmap='cividis')"
   ]
  },
  {
   "cell_type": "code",
   "execution_count": 11,
   "id": "ff61cda1-1ca2-42d3-9c31-1403a9078e0a",
   "metadata": {},
   "outputs": [
    {
     "data": {
      "text/plain": [
       "A14    0.02\n",
       "A2     0.02\n",
       "A1     0.02\n",
       "A7     0.01\n",
       "A6     0.01\n",
       "A5     0.01\n",
       "A4     0.01\n",
       "A15    0.00\n",
       "A13    0.00\n",
       "A12    0.00\n",
       "dtype: float64"
      ]
     },
     "execution_count": 11,
     "metadata": {},
     "output_type": "execute_result"
    }
   ],
   "source": [
    "#share of missing values\n",
    "nan_freq = dataset.isna().mean()\n",
    "nan_freq.sort_values(ascending=False).head(10).round(2)"
   ]
  },
  {
   "cell_type": "code",
   "execution_count": 12,
   "id": "7e0b13a3-53cf-46b5-ba99-6deddd34ab9f",
   "metadata": {},
   "outputs": [
    {
     "data": {
      "text/plain": [
       "object     10\n",
       "float64     4\n",
       "int64       2\n",
       "Name: count, dtype: int64"
      ]
     },
     "execution_count": 12,
     "metadata": {},
     "output_type": "execute_result"
    }
   ],
   "source": [
    "#types of features\n",
    "dataset.dtypes.value_counts()"
   ]
  },
  {
   "cell_type": "code",
   "execution_count": 13,
   "id": "89823a5e-202d-488f-86f0-47355650d0d2",
   "metadata": {},
   "outputs": [
    {
     "data": {
      "text/plain": [
       "A13     3\n",
       "A12     2\n",
       "A10     2\n",
       "A9      2\n",
       "A7      9\n",
       "A6     14\n",
       "A5      3\n",
       "A4      3\n",
       "A1      2\n",
       "A16     2\n",
       "dtype: int64"
      ]
     },
     "execution_count": 13,
     "metadata": {},
     "output_type": "execute_result"
    }
   ],
   "source": [
    "#number of unique values in catagorical features\n",
    "dataset.select_dtypes('object').apply(pd.Series.nunique, axis = 0)"
   ]
  },
  {
   "cell_type": "code",
   "execution_count": 14,
   "id": "eace507c-49a0-4bbb-be8e-0a6eb5eca8ba",
   "metadata": {},
   "outputs": [
    {
     "data": {
      "text/plain": [
       "<Axes: >"
      ]
     },
     "execution_count": 14,
     "metadata": {},
     "output_type": "execute_result"
    },
    {
     "data": {
      "image/png": "[encoded data removed]",
      "text/plain": [
       "<Figure size 640x480 with 2 Axes>"
      ]
     },
     "metadata": {},
     "output_type": "display_data"
    }
   ],
   "source": [
    "#correlation between numerical features\n",
    "sns.heatmap(dataset.select_dtypes(['float64', 'int64']).corr().round(2), annot=True)"
   ]
  },
  {
   "cell_type": "markdown",
   "id": "d3998de3-354b-4060-83e3-b0c2f3bcff0e",
   "metadata": {},
   "source": [
    "### Encode categorical features"
   ]
  },
  {
   "cell_type": "code",
   "execution_count": 16,
   "id": "9d6d7a81-e216-46f7-b551-c3bc06821c23",
   "metadata": {},
   "outputs": [
    {
     "name": "stdout",
     "output_type": "stream",
     "text": [
      "4 columns were label encoded.\n"
     ]
    }
   ],
   "source": [
    "#encode cayegorical features with 2 unique values\n",
    "from sklearn.preprocessing import LabelEncoder\n",
    "\n",
    "le = LabelEncoder()\n",
    "le_count = 0\n",
    "\n",
    "for col in dataset:\n",
    "    if dataset[col].dtype == 'object':\n",
    "        if len(dataset[col].unique()) <= 2:\n",
    "            dataset[col] = le.fit_transform(dataset[col])\n",
    "            le_count += 1\n",
    "\n",
    "print('%d columns were label encoded.' % le_count)"
   ]
  },
  {
   "cell_type": "code",
   "execution_count": 17,
   "id": "72e600de-39c8-40b7-af5d-8b7f1ba183a1",
   "metadata": {},
   "outputs": [],
   "source": [
    "# one-hot encoding of categorical variables with more than two unique values\n",
    "dataset = pd.get_dummies(dataset, dtype='int')"
   ]
  },
  {
   "cell_type": "code",
   "execution_count": 18,
   "id": "b06d8c3b-b7cf-47ab-b56a-8536e4b2d68c",
   "metadata": {},
   "outputs": [
    {
     "data": {
      "text/plain": [
       "int64      40\n",
       "float64     4\n",
       "Name: count, dtype: int64"
      ]
     },
     "execution_count": 18,
     "metadata": {},
     "output_type": "execute_result"
    }
   ],
   "source": [
    "dataset.dtypes.value_counts()"
   ]
  },
  {
   "cell_type": "code",
   "execution_count": 19,
   "id": "ade71ead-914c-481e-ac92-e7c2deb04221",
   "metadata": {},
   "outputs": [
    {
     "data": {
      "text/html": [
       "<div>\n",
       "<style scoped>\n",
       "    .dataframe tbody tr th:only-of-type {\n",
       "        vertical-align: middle;\n",
       "    }\n",
       "\n",
       "    .dataframe tbody tr th {\n",
       "        vertical-align: top;\n",
       "    }\n",
       "\n",
       "    .dataframe thead th {\n",
       "        text-align: right;\n",
       "    }\n",
       "</style>\n",
       "<table border=\"1\" class=\"dataframe\">\n",
       "  <thead>\n",
       "    <tr style=\"text-align: right;\">\n",
       "      <th></th>\n",
       "      <th>A15</th>\n",
       "      <th>A14</th>\n",
       "      <th>A12</th>\n",
       "      <th>A11</th>\n",
       "      <th>A10</th>\n",
       "      <th>A9</th>\n",
       "      <th>A8</th>\n",
       "      <th>A3</th>\n",
       "      <th>A2</th>\n",
       "      <th>A16</th>\n",
       "      <th>...</th>\n",
       "      <th>A6_w</th>\n",
       "      <th>A6_x</th>\n",
       "      <th>A5_g</th>\n",
       "      <th>A5_gg</th>\n",
       "      <th>A5_p</th>\n",
       "      <th>A4_l</th>\n",
       "      <th>A4_u</th>\n",
       "      <th>A4_y</th>\n",
       "      <th>A1_a</th>\n",
       "      <th>A1_b</th>\n",
       "    </tr>\n",
       "  </thead>\n",
       "  <tbody>\n",
       "    <tr>\n",
       "      <th>0</th>\n",
       "      <td>0</td>\n",
       "      <td>202.0</td>\n",
       "      <td>0</td>\n",
       "      <td>1</td>\n",
       "      <td>1</td>\n",
       "      <td>1</td>\n",
       "      <td>1.25</td>\n",
       "      <td>0.000</td>\n",
       "      <td>30.83</td>\n",
       "      <td>0</td>\n",
       "      <td>...</td>\n",
       "      <td>1</td>\n",
       "      <td>0</td>\n",
       "      <td>1</td>\n",
       "      <td>0</td>\n",
       "      <td>0</td>\n",
       "      <td>0</td>\n",
       "      <td>1</td>\n",
       "      <td>0</td>\n",
       "      <td>0</td>\n",
       "      <td>1</td>\n",
       "    </tr>\n",
       "    <tr>\n",
       "      <th>1</th>\n",
       "      <td>560</td>\n",
       "      <td>43.0</td>\n",
       "      <td>0</td>\n",
       "      <td>6</td>\n",
       "      <td>1</td>\n",
       "      <td>1</td>\n",
       "      <td>3.04</td>\n",
       "      <td>4.460</td>\n",
       "      <td>58.67</td>\n",
       "      <td>0</td>\n",
       "      <td>...</td>\n",
       "      <td>0</td>\n",
       "      <td>0</td>\n",
       "      <td>1</td>\n",
       "      <td>0</td>\n",
       "      <td>0</td>\n",
       "      <td>0</td>\n",
       "      <td>1</td>\n",
       "      <td>0</td>\n",
       "      <td>1</td>\n",
       "      <td>0</td>\n",
       "    </tr>\n",
       "    <tr>\n",
       "      <th>2</th>\n",
       "      <td>824</td>\n",
       "      <td>280.0</td>\n",
       "      <td>0</td>\n",
       "      <td>0</td>\n",
       "      <td>0</td>\n",
       "      <td>1</td>\n",
       "      <td>1.50</td>\n",
       "      <td>0.500</td>\n",
       "      <td>24.50</td>\n",
       "      <td>0</td>\n",
       "      <td>...</td>\n",
       "      <td>0</td>\n",
       "      <td>0</td>\n",
       "      <td>1</td>\n",
       "      <td>0</td>\n",
       "      <td>0</td>\n",
       "      <td>0</td>\n",
       "      <td>1</td>\n",
       "      <td>0</td>\n",
       "      <td>1</td>\n",
       "      <td>0</td>\n",
       "    </tr>\n",
       "    <tr>\n",
       "      <th>3</th>\n",
       "      <td>3</td>\n",
       "      <td>100.0</td>\n",
       "      <td>1</td>\n",
       "      <td>5</td>\n",
       "      <td>1</td>\n",
       "      <td>1</td>\n",
       "      <td>3.75</td>\n",
       "      <td>1.540</td>\n",
       "      <td>27.83</td>\n",
       "      <td>0</td>\n",
       "      <td>...</td>\n",
       "      <td>1</td>\n",
       "      <td>0</td>\n",
       "      <td>1</td>\n",
       "      <td>0</td>\n",
       "      <td>0</td>\n",
       "      <td>0</td>\n",
       "      <td>1</td>\n",
       "      <td>0</td>\n",
       "      <td>0</td>\n",
       "      <td>1</td>\n",
       "    </tr>\n",
       "    <tr>\n",
       "      <th>4</th>\n",
       "      <td>0</td>\n",
       "      <td>120.0</td>\n",
       "      <td>0</td>\n",
       "      <td>0</td>\n",
       "      <td>0</td>\n",
       "      <td>1</td>\n",
       "      <td>1.71</td>\n",
       "      <td>5.625</td>\n",
       "      <td>20.17</td>\n",
       "      <td>0</td>\n",
       "      <td>...</td>\n",
       "      <td>1</td>\n",
       "      <td>0</td>\n",
       "      <td>1</td>\n",
       "      <td>0</td>\n",
       "      <td>0</td>\n",
       "      <td>0</td>\n",
       "      <td>1</td>\n",
       "      <td>0</td>\n",
       "      <td>0</td>\n",
       "      <td>1</td>\n",
       "    </tr>\n",
       "  </tbody>\n",
       "</table>\n",
       "<p>5 rows × 44 columns</p>\n",
       "</div>"
      ],
      "text/plain": [
       "   A15    A14  A12  A11  A10  A9    A8     A3     A2  A16  ...  A6_w  A6_x  \\\n",
       "0    0  202.0    0    1    1   1  1.25  0.000  30.83    0  ...     1     0   \n",
       "1  560   43.0    0    6    1   1  3.04  4.460  58.67    0  ...     0     0   \n",
       "2  824  280.0    0    0    0   1  1.50  0.500  24.50    0  ...     0     0   \n",
       "3    3  100.0    1    5    1   1  3.75  1.540  27.83    0  ...     1     0   \n",
       "4    0  120.0    0    0    0   1  1.71  5.625  20.17    0  ...     1     0   \n",
       "\n",
       "   A5_g  A5_gg  A5_p  A4_l  A4_u  A4_y  A1_a  A1_b  \n",
       "0     1      0     0     0     1     0     0     1  \n",
       "1     1      0     0     0     1     0     1     0  \n",
       "2     1      0     0     0     1     0     1     0  \n",
       "3     1      0     0     0     1     0     0     1  \n",
       "4     1      0     0     0     1     0     0     1  \n",
       "\n",
       "[5 rows x 44 columns]"
      ]
     },
     "execution_count": 19,
     "metadata": {},
     "output_type": "execute_result"
    }
   ],
   "source": [
    "dataset.head()"
   ]
  },
  {
   "cell_type": "code",
   "execution_count": 20,
   "id": "6e643bc9-2599-49ab-9ed6-a7bbea48b164",
   "metadata": {},
   "outputs": [
    {
     "data": {
      "text/plain": [
       "<Axes: ylabel='Frequency'>"
      ]
     },
     "execution_count": 20,
     "metadata": {},
     "output_type": "execute_result"
    },
    {
     "data": {
      "image/png": "[encoded data removed]",
      "text/plain": [
       "<Figure size 640x480 with 1 Axes>"
      ]
     },
     "metadata": {},
     "output_type": "display_data"
    }
   ],
   "source": [
    "#plot target column\n",
    "dataset['A16'].plot.hist()"
   ]
  },
  {
   "cell_type": "markdown",
   "id": "55b1e231-8b2e-4670-b8d6-1fd3c15fd2f8",
   "metadata": {},
   "source": [
    "### Sklearn DecisionTreeClassifier model"
   ]
  },
  {
   "cell_type": "code",
   "execution_count": 22,
   "id": "c6fc23b8-7708-4db1-b1d5-1f598a26b801",
   "metadata": {},
   "outputs": [],
   "source": [
    "from sklearn.tree import DecisionTreeClassifier\n",
    "from sklearn.linear_model import LogisticRegression\n",
    "from sklearn.impute import SimpleImputer\n",
    "from sklearn.model_selection import train_test_split\n",
    "from sklearn.pipeline import make_pipeline\n",
    "from sklearn.metrics import roc_auc_score\n",
    "from sklearn.preprocessing import MinMaxScaler\n",
    "from sklearn.model_selection import cross_validate\n",
    "from sklearn.metrics import accuracy_score\n",
    "from sklearn.model_selection import GridSearchCV"
   ]
  },
  {
   "cell_type": "code",
   "execution_count": 23,
   "id": "7e8d03e6-9e31-4256-9b6f-bec0feb88044",
   "metadata": {},
   "outputs": [
    {
     "name": "stdout",
     "output_type": "stream",
     "text": [
      "ROC AUC from Cross-Validation: 0.796\n",
      "Fold Scores: [0.63921902 0.86014431 0.84969129 0.76868214 0.86097509]\n",
      "Accuracy from Cross-Validation: 0.796\n",
      "Fold Scores: [0.63043478 0.86231884 0.85507246 0.76086957 0.86956522]\n"
     ]
    }
   ],
   "source": [
    "# scaling, filling gaps, kfold validation\n",
    "X = dataset.drop(columns = ['A16'])\n",
    "y = dataset['A16']\n",
    "\n",
    "pipeline = make_pipeline(SimpleImputer(strategy='median'),  # Handle missing values\n",
    "                         MinMaxScaler(feature_range=(0, 1)),\n",
    "                         DecisionTreeClassifier() \n",
    "                        )\n",
    "\n",
    "cv_results = cross_validate(pipeline,\n",
    "                            X, y,\n",
    "                            cv=5,\n",
    "                            scoring=['roc_auc', 'accuracy'],\n",
    "                            return_train_score=False\n",
    "                           )\n",
    "\n",
    "mean_test_roc_auc = cv_results['test_roc_auc'].mean()\n",
    "mean_test_acc = cv_results['test_accuracy'].mean()\n",
    "\n",
    "print(f\"ROC AUC from Cross-Validation: {mean_test_roc_auc:.3f}\")\n",
    "print(\"Fold Scores:\", cv_results['test_roc_auc'])\n",
    "print(f\"Accuracy from Cross-Validation: {mean_test_acc:.3f}\")\n",
    "print(\"Fold Scores:\", cv_results['test_accuracy'])"
   ]
  },
  {
   "cell_type": "markdown",
   "id": "6bc5509e-039e-49d5-a2b3-c3a1135c46d1",
   "metadata": {},
   "source": [
    "### Model tuning with GridSearchCV"
   ]
  },
  {
   "cell_type": "code",
   "execution_count": 25,
   "id": "d4b2eaeb-5d73-4e50-ad4e-059775440e96",
   "metadata": {},
   "outputs": [],
   "source": [
    "X_train, X_test, y_train, y_test = train_test_split(X, y, train_size=0.7, random_state=100)\n",
    "imputer = SimpleImputer(strategy='median')\n",
    "X_train = imputer.fit_transform(X_train)\n",
    "X_test = imputer.transform(X_test)"
   ]
  },
  {
   "cell_type": "code",
   "execution_count": 26,
   "id": "6bfca68c-d118-4342-9cd7-479f4f1809aa",
   "metadata": {},
   "outputs": [],
   "source": [
    "dt = DecisionTreeClassifier(random_state=100)"
   ]
  },
  {
   "cell_type": "code",
   "execution_count": 27,
   "id": "91f604a1-1a38-46bd-ae2c-8932ba069fb6",
   "metadata": {},
   "outputs": [],
   "source": [
    "# Create the parameter grid based on the results of random search \n",
    "params = {\n",
    "    'max_depth': [2, 3, 5, 10, 20],\n",
    "    'min_samples_leaf': [5, 10, 20, 50, 100],\n",
    "    'criterion': [\"gini\", \"entropy\"]\n",
    "}"
   ]
  },
  {
   "cell_type": "code",
   "execution_count": 28,
   "id": "e46f4b3c-358a-4cb2-b4de-a0b2b1523889",
   "metadata": {},
   "outputs": [],
   "source": [
    "grid_search = GridSearchCV(estimator=dt, \n",
    "                           param_grid=params, \n",
    "                           cv=4, n_jobs=-1, verbose=1, scoring = \"accuracy\")"
   ]
  },
  {
   "cell_type": "code",
   "execution_count": 29,
   "id": "3199c5ed-811d-4761-b3e6-2bd76f96784c",
   "metadata": {},
   "outputs": [
    {
     "name": "stdout",
     "output_type": "stream",
     "text": [
      "Fitting 4 folds for each of 50 candidates, totalling 200 fits\n"
     ]
    },
    {
     "data": {
      "text/html": [
       "<style>#sk-container-id-1 {color: black;background-color: white;}#sk-container-id-1 pre{padding: 0;}#sk-container-id-1 div.sk-toggleable {background-color: white;}#sk-container-id-1 label.sk-toggleable__label {cursor: pointer;display: block;width: 100%;margin-bottom: 0;padding: 0.3em;box-sizing: border-box;text-align: center;}#sk-container-id-1 label.sk-toggleable__label-arrow:before {content: \"▸\";float: left;margin-right: 0.25em;color: #696969;}#sk-container-id-1 label.sk-toggleable__label-arrow:hover:before {color: black;}#sk-container-id-1 div.sk-estimator:hover label.sk-toggleable__label-arrow:before {color: black;}#sk-container-id-1 div.sk-toggleable__content {max-height: 0;max-width: 0;overflow: hidden;text-align: left;background-color: #f0f8ff;}#sk-container-id-1 div.sk-toggleable__content pre {margin: 0.2em;color: black;border-radius: 0.25em;background-color: #f0f8ff;}#sk-container-id-1 input.sk-toggleable__control:checked~div.sk-toggleable__content {max-height: 200px;max-width: 100%;overflow: auto;}#sk-container-id-1 input.sk-toggleable__control:checked~label.sk-toggleable__label-arrow:before {content: \"▾\";}#sk-container-id-1 div.sk-estimator input.sk-toggleable__control:checked~label.sk-toggleable__label {background-color: #d4ebff;}#sk-container-id-1 div.sk-label input.sk-toggleable__control:checked~label.sk-toggleable__label {background-color: #d4ebff;}#sk-container-id-1 input.sk-hidden--visually {border: 0;clip: rect(1px 1px 1px 1px);clip: rect(1px, 1px, 1px, 1px);height: 1px;margin: -1px;overflow: hidden;padding: 0;position: absolute;width: 1px;}#sk-container-id-1 div.sk-estimator {font-family: monospace;background-color: #f0f8ff;border: 1px dotted black;border-radius: 0.25em;box-sizing: border-box;margin-bottom: 0.5em;}#sk-container-id-1 div.sk-estimator:hover {background-color: #d4ebff;}#sk-container-id-1 div.sk-parallel-item::after {content: \"\";width: 100%;border-bottom: 1px solid gray;flex-grow: 1;}#sk-container-id-1 div.sk-label:hover label.sk-toggleable__label {background-color: #d4ebff;}#sk-container-id-1 div.sk-serial::before {content: \"\";position: absolute;border-left: 1px solid gray;box-sizing: border-box;top: 0;bottom: 0;left: 50%;z-index: 0;}#sk-container-id-1 div.sk-serial {display: flex;flex-direction: column;align-items: center;background-color: white;padding-right: 0.2em;padding-left: 0.2em;position: relative;}#sk-container-id-1 div.sk-item {position: relative;z-index: 1;}#sk-container-id-1 div.sk-parallel {display: flex;align-items: stretch;justify-content: center;background-color: white;position: relative;}#sk-container-id-1 div.sk-item::before, #sk-container-id-1 div.sk-parallel-item::before {content: \"\";position: absolute;border-left: 1px solid gray;box-sizing: border-box;top: 0;bottom: 0;left: 50%;z-index: -1;}#sk-container-id-1 div.sk-parallel-item {display: flex;flex-direction: column;z-index: 1;position: relative;background-color: white;}#sk-container-id-1 div.sk-parallel-item:first-child::after {align-self: flex-end;width: 50%;}#sk-container-id-1 div.sk-parallel-item:last-child::after {align-self: flex-start;width: 50%;}#sk-container-id-1 div.sk-parallel-item:only-child::after {width: 0;}#sk-container-id-1 div.sk-dashed-wrapped {border: 1px dashed gray;margin: 0 0.4em 0.5em 0.4em;box-sizing: border-box;padding-bottom: 0.4em;background-color: white;}#sk-container-id-1 div.sk-label label {font-family: monospace;font-weight: bold;display: inline-block;line-height: 1.2em;}#sk-container-id-1 div.sk-label-container {text-align: center;}#sk-container-id-1 div.sk-container {/* jupyter's `normalize.less` sets `[hidden] { display: none; }` but bootstrap.min.css set `[hidden] { display: none !important; }` so we also need the `!important` here to be able to override the default hidden behavior on the sphinx rendered scikit-learn.org. See: https://github.com/scikit-learn/scikit-learn/issues/21755 */display: inline-block !important;position: relative;}#sk-container-id-1 div.sk-text-repr-fallback {display: none;}</style><div id=\"sk-container-id-1\" class=\"sk-top-container\"><div class=\"sk-text-repr-fallback\"><pre>GridSearchCV(cv=4, estimator=DecisionTreeClassifier(random_state=100),\n",
       "             n_jobs=-1,\n",
       "             param_grid={&#x27;criterion&#x27;: [&#x27;gini&#x27;, &#x27;entropy&#x27;],\n",
       "                         &#x27;max_depth&#x27;: [2, 3, 5, 10, 20],\n",
       "                         &#x27;min_samples_leaf&#x27;: [5, 10, 20, 50, 100]},\n",
       "             scoring=&#x27;accuracy&#x27;, verbose=1)</pre><b>In a Jupyter environment, please rerun this cell to show the HTML representation or trust the notebook. <br />On GitHub, the HTML representation is unable to render, please try loading this page with nbviewer.org.</b></div><div class=\"sk-container\" hidden><div class=\"sk-item sk-dashed-wrapped\"><div class=\"sk-label-container\"><div class=\"sk-label sk-toggleable\"><input class=\"sk-toggleable__control sk-hidden--visually\" id=\"sk-estimator-id-1\" type=\"checkbox\" ><label for=\"sk-estimator-id-1\" class=\"sk-toggleable__label sk-toggleable__label-arrow\">GridSearchCV</label><div class=\"sk-toggleable__content\"><pre>GridSearchCV(cv=4, estimator=DecisionTreeClassifier(random_state=100),\n",
       "             n_jobs=-1,\n",
       "             param_grid={&#x27;criterion&#x27;: [&#x27;gini&#x27;, &#x27;entropy&#x27;],\n",
       "                         &#x27;max_depth&#x27;: [2, 3, 5, 10, 20],\n",
       "                         &#x27;min_samples_leaf&#x27;: [5, 10, 20, 50, 100]},\n",
       "             scoring=&#x27;accuracy&#x27;, verbose=1)</pre></div></div></div><div class=\"sk-parallel\"><div class=\"sk-parallel-item\"><div class=\"sk-item\"><div class=\"sk-label-container\"><div class=\"sk-label sk-toggleable\"><input class=\"sk-toggleable__control sk-hidden--visually\" id=\"sk-estimator-id-2\" type=\"checkbox\" ><label for=\"sk-estimator-id-2\" class=\"sk-toggleable__label sk-toggleable__label-arrow\">estimator: DecisionTreeClassifier</label><div class=\"sk-toggleable__content\"><pre>DecisionTreeClassifier(random_state=100)</pre></div></div></div><div class=\"sk-serial\"><div class=\"sk-item\"><div class=\"sk-estimator sk-toggleable\"><input class=\"sk-toggleable__control sk-hidden--visually\" id=\"sk-estimator-id-3\" type=\"checkbox\" ><label for=\"sk-estimator-id-3\" class=\"sk-toggleable__label sk-toggleable__label-arrow\">DecisionTreeClassifier</label><div class=\"sk-toggleable__content\"><pre>DecisionTreeClassifier(random_state=100)</pre></div></div></div></div></div></div></div></div></div></div>"
      ],
      "text/plain": [
       "GridSearchCV(cv=4, estimator=DecisionTreeClassifier(random_state=100),\n",
       "             n_jobs=-1,\n",
       "             param_grid={'criterion': ['gini', 'entropy'],\n",
       "                         'max_depth': [2, 3, 5, 10, 20],\n",
       "                         'min_samples_leaf': [5, 10, 20, 50, 100]},\n",
       "             scoring='accuracy', verbose=1)"
      ]
     },
     "execution_count": 29,
     "metadata": {},
     "output_type": "execute_result"
    }
   ],
   "source": [
    "grid_search.fit(X_train, y_train)"
   ]
  },
  {
   "cell_type": "code",
   "execution_count": 30,
   "id": "72e85e79-141c-4a76-9722-7e293b3f66c3",
   "metadata": {},
   "outputs": [
    {
     "name": "stdout",
     "output_type": "stream",
     "text": [
      "DecisionTreeClassifier(max_depth=2, min_samples_leaf=10, random_state=100)\n",
      "Accuracy:  0.867\n"
     ]
    }
   ],
   "source": [
    "print(grid_search.best_estimator_)\n",
    "print('Accuracy: ',grid_search.best_score_.round(3))"
   ]
  },
  {
   "cell_type": "code",
   "execution_count": 31,
   "id": "e2334c7a-bf9e-43b3-a776-c71fe3f4729c",
   "metadata": {},
   "outputs": [
    {
     "data": {
      "image/png": "[encoded data removed]",
      "text/plain": [
       "<Figure size 1500x1000 with 1 Axes>"
      ]
     },
     "metadata": {},
     "output_type": "display_data"
    }
   ],
   "source": [
    "#visualize tree\n",
    "from sklearn.tree import plot_tree\n",
    "\n",
    "fig = plt.figure(figsize=(15,10))\n",
    "_ = plot_tree(grid_search.best_estimator_,\n",
    "              feature_names=X.columns,\n",
    "              class_names=['+', \"-\"],\n",
    "              filled=True\n",
    "             )"
   ]
  },
  {
   "cell_type": "code",
   "execution_count": 32,
   "id": "05b4238e-0624-42e8-8cb7-e1d35e5754b8",
   "metadata": {},
   "outputs": [
    {
     "name": "stdout",
     "output_type": "stream",
     "text": [
      "ROC AUC from Cross-Validation: 0.907\n",
      "Fold Scores: [0.74267827 0.98174873 0.99031297 0.83713008 0.98083883]\n",
      "Accuracy from Cross-Validation: 0.855\n",
      "Fold Scores: [0.62318841 0.97101449 0.98550725 0.76086957 0.93478261]\n"
     ]
    }
   ],
   "source": [
    "#kfold validation of best model\n",
    "X = dataset.drop(columns = ['A16'])\n",
    "y = dataset['A16']\n",
    "\n",
    "pipeline = make_pipeline(SimpleImputer(strategy='median'),  # Handle missing values\n",
    "                         grid_search.best_estimator_,\n",
    "                        )\n",
    "\n",
    "cv_results = cross_validate(pipeline,\n",
    "                            X, y,\n",
    "                            cv=5,\n",
    "                            scoring=['roc_auc', 'accuracy'],\n",
    "                            return_train_score=False\n",
    "                           )\n",
    "\n",
    "mean_test_roc_auc = cv_results['test_roc_auc'].mean()\n",
    "mean_test_acc = cv_results['test_accuracy'].mean()\n",
    "\n",
    "print(f\"ROC AUC from Cross-Validation: {mean_test_roc_auc:.3f}\")\n",
    "print(\"Fold Scores:\", cv_results['test_roc_auc'])\n",
    "print(f\"Accuracy from Cross-Validation: {mean_test_acc:.3f}\")\n",
    "print(\"Fold Scores:\", cv_results['test_accuracy'])"
   ]
  },
  {
   "cell_type": "markdown",
   "id": "04c96fc1-1b2b-4c89-94bc-b252e459c5b7",
   "metadata": {},
   "source": [
    "### Categorical Decision Tree from scratch"
   ]
  },
  {
   "cell_type": "code",
   "execution_count": 34,
   "id": "2e59c6d8-bf96-4059-9e96-3825b65f1712",
   "metadata": {},
   "outputs": [],
   "source": [
    "#import file with new classifier\n",
    "import tree"
   ]
  },
  {
   "cell_type": "code",
   "execution_count": 35,
   "id": "ea3f5a33-5cd9-42d2-b3f2-030bec164830",
   "metadata": {},
   "outputs": [],
   "source": [
    "dtc = tree.DecisionTreeCategory(max_depth=5)"
   ]
  },
  {
   "cell_type": "code",
   "execution_count": 36,
   "id": "8f07abc8-362f-4380-8cfb-e14a8c310e80",
   "metadata": {},
   "outputs": [
    {
     "data": {
      "text/html": [
       "<div>\n",
       "<style scoped>\n",
       "    .dataframe tbody tr th:only-of-type {\n",
       "        vertical-align: middle;\n",
       "    }\n",
       "\n",
       "    .dataframe tbody tr th {\n",
       "        vertical-align: top;\n",
       "    }\n",
       "\n",
       "    .dataframe thead th {\n",
       "        text-align: right;\n",
       "    }\n",
       "</style>\n",
       "<table border=\"1\" class=\"dataframe\">\n",
       "  <thead>\n",
       "    <tr style=\"text-align: right;\">\n",
       "      <th></th>\n",
       "      <th>A13</th>\n",
       "      <th>A12</th>\n",
       "      <th>A10</th>\n",
       "      <th>A9</th>\n",
       "      <th>A7</th>\n",
       "      <th>A6</th>\n",
       "      <th>A5</th>\n",
       "      <th>A4</th>\n",
       "      <th>A1</th>\n",
       "      <th>A16</th>\n",
       "    </tr>\n",
       "  </thead>\n",
       "  <tbody>\n",
       "    <tr>\n",
       "      <th>0</th>\n",
       "      <td>g</td>\n",
       "      <td>f</td>\n",
       "      <td>t</td>\n",
       "      <td>t</td>\n",
       "      <td>v</td>\n",
       "      <td>w</td>\n",
       "      <td>g</td>\n",
       "      <td>u</td>\n",
       "      <td>b</td>\n",
       "      <td>0</td>\n",
       "    </tr>\n",
       "    <tr>\n",
       "      <th>1</th>\n",
       "      <td>g</td>\n",
       "      <td>f</td>\n",
       "      <td>t</td>\n",
       "      <td>t</td>\n",
       "      <td>h</td>\n",
       "      <td>q</td>\n",
       "      <td>g</td>\n",
       "      <td>u</td>\n",
       "      <td>a</td>\n",
       "      <td>0</td>\n",
       "    </tr>\n",
       "    <tr>\n",
       "      <th>2</th>\n",
       "      <td>g</td>\n",
       "      <td>f</td>\n",
       "      <td>f</td>\n",
       "      <td>t</td>\n",
       "      <td>h</td>\n",
       "      <td>q</td>\n",
       "      <td>g</td>\n",
       "      <td>u</td>\n",
       "      <td>a</td>\n",
       "      <td>0</td>\n",
       "    </tr>\n",
       "    <tr>\n",
       "      <th>3</th>\n",
       "      <td>g</td>\n",
       "      <td>t</td>\n",
       "      <td>t</td>\n",
       "      <td>t</td>\n",
       "      <td>v</td>\n",
       "      <td>w</td>\n",
       "      <td>g</td>\n",
       "      <td>u</td>\n",
       "      <td>b</td>\n",
       "      <td>0</td>\n",
       "    </tr>\n",
       "    <tr>\n",
       "      <th>4</th>\n",
       "      <td>s</td>\n",
       "      <td>f</td>\n",
       "      <td>f</td>\n",
       "      <td>t</td>\n",
       "      <td>v</td>\n",
       "      <td>w</td>\n",
       "      <td>g</td>\n",
       "      <td>u</td>\n",
       "      <td>b</td>\n",
       "      <td>0</td>\n",
       "    </tr>\n",
       "  </tbody>\n",
       "</table>\n",
       "</div>"
      ],
      "text/plain": [
       "  A13 A12 A10 A9 A7 A6 A5 A4 A1  A16\n",
       "0   g   f   t  t  v  w  g  u  b    0\n",
       "1   g   f   t  t  h  q  g  u  a    0\n",
       "2   g   f   f  t  h  q  g  u  a    0\n",
       "3   g   t   t  t  v  w  g  u  b    0\n",
       "4   s   f   f  t  v  w  g  u  b    0"
      ]
     },
     "execution_count": 36,
     "metadata": {},
     "output_type": "execute_result"
    }
   ],
   "source": [
    "X = data.select_dtypes(include=['object'])\n",
    "y = dataset['A16']\n",
    "pd.concat([X, y], axis=1).head()"
   ]
  },
  {
   "cell_type": "code",
   "execution_count": 37,
   "id": "210be4e4-b8a7-4375-b60c-552e6a64ef99",
   "metadata": {},
   "outputs": [],
   "source": [
    "X_train, X_test, y_train, y_test = train_test_split(X, y, train_size=0.7, random_state=42)"
   ]
  },
  {
   "cell_type": "code",
   "execution_count": 38,
   "id": "13820ed2-41ab-448a-af81-d60c9d1e9f6d",
   "metadata": {},
   "outputs": [],
   "source": [
    "dtc.fit(X_train, y_train)"
   ]
  },
  {
   "cell_type": "code",
   "execution_count": 39,
   "id": "be0e95ff-250e-4c13-bddd-155285e2fb47",
   "metadata": {},
   "outputs": [],
   "source": [
    "preds = dtc.predict(X_test)"
   ]
  },
  {
   "cell_type": "code",
   "execution_count": 40,
   "id": "7e25823a-95da-427f-bc0d-5de10e6a8577",
   "metadata": {},
   "outputs": [
    {
     "data": {
      "text/plain": [
       "0.8269230769230769"
      ]
     },
     "execution_count": 40,
     "metadata": {},
     "output_type": "execute_result"
    }
   ],
   "source": [
    "# accuracy corresponds with sklearn model accuracy\n",
    "accuracy_score(y_test, preds)"
   ]
  },
  {
   "cell_type": "code",
   "execution_count": 41,
   "id": "1f847cdd-ec6b-4a1d-8c8c-c83588b25c29",
   "metadata": {},
   "outputs": [
    {
     "name": "stdout",
     "output_type": "stream",
     "text": [
      "A9=f?\n",
      "-----(T) A13=p?\n",
      "----------(T) A1=a?\n",
      "---------------(T) 0\n",
      "---------------(F) A12=f?\n",
      "--------------------(T) 0\n",
      "--------------------(F) 0\n",
      "----------(F) A7=ff?\n",
      "---------------(T) 1\n",
      "---------------(F) A7=n?\n",
      "--------------------(T) A12=t?\n",
      "-------------------------(T) 1\n",
      "-------------------------(F) 0\n",
      "--------------------(F) A6=x?\n",
      "-------------------------(T) 1\n",
      "-------------------------(F) 1\n",
      "-----(F) A10=t?\n",
      "----------(T) A6=q?\n",
      "---------------(T) A5=g?\n",
      "--------------------(T) A12=f?\n",
      "-------------------------(T) 0\n",
      "-------------------------(F) 0\n",
      "--------------------(F) 0\n",
      "---------------(F) A6=k?\n",
      "--------------------(T) A12=t?\n",
      "-------------------------(T) 1\n",
      "-------------------------(F) 0\n",
      "--------------------(F) A6=ff?\n",
      "-------------------------(T) 0\n",
      "-------------------------(F) 0\n",
      "----------(F) A6=d?\n",
      "---------------(T) 1\n",
      "---------------(F) A6=x?\n",
      "--------------------(T) 0\n",
      "--------------------(F) A6=e?\n",
      "-------------------------(T) 0\n",
      "-------------------------(F) 0\n"
     ]
    }
   ],
   "source": [
    "dtc.print_tree()"
   ]
  }
 ],
 "metadata": {
  "kernelspec": {
   "display_name": "Python 3 (ipykernel)",
   "language": "python",
   "name": "python3"
  },
  "language_info": {
   "codemirror_mode": {
    "name": "ipython",
    "version": 3
   },
   "file_extension": ".py",
   "mimetype": "text/x-python",
   "name": "python",
   "nbconvert_exporter": "python",
   "pygments_lexer": "ipython3",
   "version": "3.11.7"
  }
 },
 "nbformat": 4,
 "nbformat_minor": 5
}
