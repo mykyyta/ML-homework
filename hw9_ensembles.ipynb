{
 "cells": [
  {
   "cell_type": "code",
   "execution_count": 2,
   "id": "47030c1d-aa22-44f0-a9dd-59da1c1d1594",
   "metadata": {},
   "outputs": [],
   "source": [
    "import pandas as pd\n",
    "import numpy as np\n",
    "import matplotlib.pyplot as plt\n",
    "import seaborn as sns"
   ]
  },
  {
   "cell_type": "code",
   "execution_count": 3,
   "id": "462636e5-e0e9-4077-8237-298ee36acace",
   "metadata": {},
   "outputs": [
    {
     "name": "stdout",
     "output_type": "stream",
     "text": [
      "                  name     role         type demographic  \\\n",
      "0  process.b1.capacity  Feature      Integer        None   \n",
      "1  process.b2.capacity  Feature      Integer        None   \n",
      "2  process.b3.capacity  Feature      Integer        None   \n",
      "3  process.b4.capacity  Feature      Integer        None   \n",
      "4       property.price  Feature      Integer        None   \n",
      "5     property.product  Feature      Integer        None   \n",
      "6      property.winner  Feature      Integer        None   \n",
      "7  verification.result   Target  Categorical        None   \n",
      "8    verification.time   Target   Continuous        None   \n",
      "\n",
      "                                         description units missing_values  \n",
      "0  Capacity (max number of products to win) of Bi...  None             no  \n",
      "1  Capacity (max number of products to win) of Bi...  None             no  \n",
      "2  Capacity (max number of products to win) of Bi...  None             no  \n",
      "3  Capacity (max number of products to win) of Bi...  None             no  \n",
      "4                          Price currently verified.  None             no  \n",
      "5                        Product currently verified.  None             no  \n",
      "6  Bidder currently verified as winner of the pro...  None             no  \n",
      "7  Binary verification result - is the verified o...  None             no  \n",
      "8                 Runtime of verification procedure.  None             no  \n"
     ]
    }
   ],
   "source": [
    "from ucimlrepo import fetch_ucirepo \n",
    "  \n",
    "# fetch dataset \n",
    "auction_verification = fetch_ucirepo(id=713) \n",
    "  \n",
    "# data (as pandas dataframes) \n",
    "X = auction_verification.data.features \n",
    "y = auction_verification.data.targets \n",
    "  \n",
    "# variable information \n",
    "print(auction_verification.variables) "
   ]
  },
  {
   "cell_type": "code",
   "execution_count": 4,
   "id": "7526013d-be86-422f-9428-53da5d9f2f7b",
   "metadata": {},
   "outputs": [
    {
     "name": "stdout",
     "output_type": "stream",
     "text": [
      "uci_id: 713\n",
      "name: Auction Verification\n",
      "repository_url: https://archive.ics.uci.edu/dataset/713/auction+verification\n",
      "data_url: https://archive.ics.uci.edu/static/public/713/data.csv\n",
      "abstract: We modeled a simultaneous multi-round auction with BPMN models, transformed the latter to Petri nets, and used a model checker to verify whether certain outcomes of the auction are possible or not.\n",
      "area: Computer Science\n",
      "tasks: ['Classification', 'Regression']\n",
      "characteristics: ['Tabular']\n",
      "num_instances: 2043\n",
      "num_features: 7\n",
      "feature_types: []\n",
      "demographics: []\n",
      "target_col: ['verification.result', 'verification.time']\n",
      "index_col: None\n",
      "has_missing_values: no\n",
      "missing_values_symbol: None\n",
      "year_of_dataset_creation: 2022\n",
      "last_updated: Sun Apr 24 2022\n",
      "dataset_doi: 10.24432/C52K6N\n",
      "creators: ['Elaheh Ordoni', 'Jakob Bach', 'Ann-Katrin Fleck', 'Jakob Bach']\n",
      "title: Analyzing and Predicting Verification of Data-Aware Process Models – a Case Study with Spectrum Auctions\n",
      "authors: Elaheh Ordoni, Jakob Bach, Ann-Katrin Fleck\n",
      "published_in: Journal\n",
      "year: 2022\n",
      "url: https://www.doi.org/10.1109/ACCESS.2022.3154445\n",
      "doi: 10.1109/ACCESS.2022.3154445\n",
      "summary: Our code to prepare the dataset and to make predictions is available here: https://github.com/Jakob-Bach/Analyzing-Auction-Verification\n",
      "purpose: The dataset was created as part of a scientific study. The goal was to find out whether one could replace costly verification of complex process models (here: simultaneous multi-round auctions, as used for auctioning frequency spectra) with predictions of the outcome.\n",
      "funded_by: None\n",
      "instances_represent: Each instance represents one verification run. Verification checks whether a particular price is possible for a particular product, and (for only some of the instances) whether a particular bidder might win the product to that price.\n",
      "recommended_data_splits: None\n",
      "sensitive_data: None\n",
      "preprocessing_description: None\n",
      "variable_info: None\n",
      "citation: If you use this dataset in experiments for a scientific publication, we would be happy if you could cite our paper: https://www.doi.org/10.1109/ACCESS.2022.3154445\n"
     ]
    }
   ],
   "source": [
    "for key, value in auction_verification.metadata.items():\n",
    "    if isinstance(value, dict):\n",
    "        for k, v in value.items():\n",
    "            print(f'{k}: {v}')\n",
    "    else:\n",
    "        print(f'{key}: {value}')"
   ]
  },
  {
   "cell_type": "markdown",
   "id": "bc177ff5-b020-43fb-be94-8439e497b8c8",
   "metadata": {},
   "source": [
    "### EDA"
   ]
  },
  {
   "cell_type": "code",
   "execution_count": 6,
   "id": "ff5bafd7-7923-4771-9792-6ae8bce0a6de",
   "metadata": {},
   "outputs": [
    {
     "data": {
      "text/plain": [
       "(2043, 7)"
      ]
     },
     "execution_count": 6,
     "metadata": {},
     "output_type": "execute_result"
    }
   ],
   "source": [
    "X.shape"
   ]
  },
  {
   "cell_type": "code",
   "execution_count": 7,
   "id": "1644e84f-810a-4733-a8f1-b672c26f9eb8",
   "metadata": {},
   "outputs": [
    {
     "data": {
      "text/html": [
       "<div>\n",
       "<style scoped>\n",
       "    .dataframe tbody tr th:only-of-type {\n",
       "        vertical-align: middle;\n",
       "    }\n",
       "\n",
       "    .dataframe tbody tr th {\n",
       "        vertical-align: top;\n",
       "    }\n",
       "\n",
       "    .dataframe thead th {\n",
       "        text-align: right;\n",
       "    }\n",
       "</style>\n",
       "<table border=\"1\" class=\"dataframe\">\n",
       "  <thead>\n",
       "    <tr style=\"text-align: right;\">\n",
       "      <th></th>\n",
       "      <th>process.b1.capacity</th>\n",
       "      <th>process.b2.capacity</th>\n",
       "      <th>process.b3.capacity</th>\n",
       "      <th>process.b4.capacity</th>\n",
       "      <th>property.price</th>\n",
       "      <th>property.product</th>\n",
       "      <th>property.winner</th>\n",
       "    </tr>\n",
       "  </thead>\n",
       "  <tbody>\n",
       "    <tr>\n",
       "      <th>count</th>\n",
       "      <td>2043.000000</td>\n",
       "      <td>2043.000000</td>\n",
       "      <td>2043.000000</td>\n",
       "      <td>2043.000000</td>\n",
       "      <td>2043.000000</td>\n",
       "      <td>2043.000000</td>\n",
       "      <td>2043.000000</td>\n",
       "    </tr>\n",
       "    <tr>\n",
       "      <th>mean</th>\n",
       "      <td>1.000000</td>\n",
       "      <td>2.093979</td>\n",
       "      <td>1.883994</td>\n",
       "      <td>0.587861</td>\n",
       "      <td>71.473324</td>\n",
       "      <td>3.252080</td>\n",
       "      <td>0.455213</td>\n",
       "    </tr>\n",
       "    <tr>\n",
       "      <th>std</th>\n",
       "      <td>0.816696</td>\n",
       "      <td>0.811269</td>\n",
       "      <td>0.320310</td>\n",
       "      <td>0.492340</td>\n",
       "      <td>8.048740</td>\n",
       "      <td>1.804225</td>\n",
       "      <td>1.062828</td>\n",
       "    </tr>\n",
       "    <tr>\n",
       "      <th>min</th>\n",
       "      <td>0.000000</td>\n",
       "      <td>0.000000</td>\n",
       "      <td>1.000000</td>\n",
       "      <td>0.000000</td>\n",
       "      <td>59.000000</td>\n",
       "      <td>1.000000</td>\n",
       "      <td>0.000000</td>\n",
       "    </tr>\n",
       "    <tr>\n",
       "      <th>25%</th>\n",
       "      <td>0.000000</td>\n",
       "      <td>1.000000</td>\n",
       "      <td>2.000000</td>\n",
       "      <td>0.000000</td>\n",
       "      <td>65.000000</td>\n",
       "      <td>2.000000</td>\n",
       "      <td>0.000000</td>\n",
       "    </tr>\n",
       "    <tr>\n",
       "      <th>50%</th>\n",
       "      <td>1.000000</td>\n",
       "      <td>2.000000</td>\n",
       "      <td>2.000000</td>\n",
       "      <td>1.000000</td>\n",
       "      <td>70.000000</td>\n",
       "      <td>3.000000</td>\n",
       "      <td>0.000000</td>\n",
       "    </tr>\n",
       "    <tr>\n",
       "      <th>75%</th>\n",
       "      <td>2.000000</td>\n",
       "      <td>3.000000</td>\n",
       "      <td>2.000000</td>\n",
       "      <td>1.000000</td>\n",
       "      <td>78.000000</td>\n",
       "      <td>5.000000</td>\n",
       "      <td>0.000000</td>\n",
       "    </tr>\n",
       "    <tr>\n",
       "      <th>max</th>\n",
       "      <td>2.000000</td>\n",
       "      <td>3.000000</td>\n",
       "      <td>2.000000</td>\n",
       "      <td>1.000000</td>\n",
       "      <td>90.000000</td>\n",
       "      <td>6.000000</td>\n",
       "      <td>4.000000</td>\n",
       "    </tr>\n",
       "  </tbody>\n",
       "</table>\n",
       "</div>"
      ],
      "text/plain": [
       "       process.b1.capacity  process.b2.capacity  process.b3.capacity  \\\n",
       "count          2043.000000          2043.000000          2043.000000   \n",
       "mean              1.000000             2.093979             1.883994   \n",
       "std               0.816696             0.811269             0.320310   \n",
       "min               0.000000             0.000000             1.000000   \n",
       "25%               0.000000             1.000000             2.000000   \n",
       "50%               1.000000             2.000000             2.000000   \n",
       "75%               2.000000             3.000000             2.000000   \n",
       "max               2.000000             3.000000             2.000000   \n",
       "\n",
       "       process.b4.capacity  property.price  property.product  property.winner  \n",
       "count          2043.000000     2043.000000       2043.000000      2043.000000  \n",
       "mean              0.587861       71.473324          3.252080         0.455213  \n",
       "std               0.492340        8.048740          1.804225         1.062828  \n",
       "min               0.000000       59.000000          1.000000         0.000000  \n",
       "25%               0.000000       65.000000          2.000000         0.000000  \n",
       "50%               1.000000       70.000000          3.000000         0.000000  \n",
       "75%               1.000000       78.000000          5.000000         0.000000  \n",
       "max               1.000000       90.000000          6.000000         4.000000  "
      ]
     },
     "execution_count": 7,
     "metadata": {},
     "output_type": "execute_result"
    }
   ],
   "source": [
    "X.describe()"
   ]
  },
  {
   "cell_type": "code",
   "execution_count": 8,
   "id": "d9491515-a20e-4154-9757-01053824b160",
   "metadata": {},
   "outputs": [
    {
     "data": {
      "image/png": "[encoded data removed]",
      "text/plain": [
       "<Figure size 1000x400 with 8 Axes>"
      ]
     },
     "metadata": {},
     "output_type": "display_data"
    }
   ],
   "source": [
    "X.hist(figsize=(10, 4), layout=(2,4), bins=20)\n",
    "plt.tight_layout()"
   ]
  },
  {
   "cell_type": "code",
   "execution_count": 9,
   "id": "6914432b-e39e-4baa-a533-2a1054d7dcf9",
   "metadata": {},
   "outputs": [
    {
     "data": {
      "text/plain": [
       "(2043, 2)"
      ]
     },
     "execution_count": 9,
     "metadata": {},
     "output_type": "execute_result"
    }
   ],
   "source": [
    "y.shape"
   ]
  },
  {
   "cell_type": "code",
   "execution_count": 10,
   "id": "fdb52e01-e00b-453c-b7bd-d06912dc1a35",
   "metadata": {},
   "outputs": [
    {
     "data": {
      "text/plain": [
       "Index(['verification.result', 'verification.time'], dtype='object')"
      ]
     },
     "execution_count": 10,
     "metadata": {},
     "output_type": "execute_result"
    }
   ],
   "source": [
    "y.columns"
   ]
  },
  {
   "cell_type": "code",
   "execution_count": 11,
   "id": "5bbe5312-195e-40e7-b33e-6773c320232c",
   "metadata": {},
   "outputs": [
    {
     "data": {
      "text/plain": [
       "<Axes: xlabel='verification.result', ylabel='count'>"
      ]
     },
     "execution_count": 11,
     "metadata": {},
     "output_type": "execute_result"
    },
    {
     "data": {
      "image/png": "[encoded data removed]",
      "text/plain": [
       "<Figure size 640x480 with 1 Axes>"
      ]
     },
     "metadata": {},
     "output_type": "display_data"
    }
   ],
   "source": [
    "sns.countplot(data=y, x='verification.result')"
   ]
  },
  {
   "cell_type": "code",
   "execution_count": 12,
   "id": "10308e8c-845b-40cb-bf95-a78c3beb1659",
   "metadata": {},
   "outputs": [
    {
     "data": {
      "text/plain": [
       "<seaborn.axisgrid.FacetGrid at 0x14f122690>"
      ]
     },
     "execution_count": 12,
     "metadata": {},
     "output_type": "execute_result"
    },
    {
     "data": {
      "image/png": "[encoded data removed]",
      "text/plain": [
       "<Figure size 450x300 with 1 Axes>"
      ]
     },
     "metadata": {},
     "output_type": "display_data"
    }
   ],
   "source": [
    "sns.displot(y['verification.time'], height=3, aspect=1.5)"
   ]
  },
  {
   "cell_type": "markdown",
   "id": "c04962bf-ad5d-4eb5-bc72-364bf380db31",
   "metadata": {},
   "source": [
    "### Basic model, for comparison with ensembles"
   ]
  },
  {
   "cell_type": "code",
   "execution_count": 14,
   "id": "abb377c0-091a-4652-b5a8-4152e4d40b49",
   "metadata": {},
   "outputs": [],
   "source": [
    "from sklearn.tree import DecisionTreeClassifier\n",
    "from sklearn.linear_model import LogisticRegression\n",
    "from sklearn.pipeline import make_pipeline\n",
    "from sklearn.metrics import roc_auc_score\n",
    "from sklearn.metrics import accuracy_score\n",
    "from sklearn.preprocessing import MinMaxScaler\n",
    "from sklearn.model_selection import cross_validate\n",
    "from sklearn.model_selection import StratifiedKFold\n",
    "from sklearn.model_selection import train_test_split\n",
    "from sklearn.ensemble import RandomForestClassifier\n",
    "from sklearn.model_selection import GridSearchCV"
   ]
  },
  {
   "cell_type": "code",
   "execution_count": 15,
   "id": "14092311-0f68-4018-828c-03a3831cf9fa",
   "metadata": {},
   "outputs": [
    {
     "name": "stdout",
     "output_type": "stream",
     "text": [
      "Decision trees ROC AUC: 0.848\n",
      "Fold Scores: [0.50972312 0.76825843 0.96226415 1.         1.        ]\n",
      "Logistic regression ROC AUC: 0.748\n",
      "Fold Scores: [0.62642749 0.63668645 0.80559678 0.83815903 0.83383751]\n"
     ]
    }
   ],
   "source": [
    "# scaling, filling gaps, validation\n",
    "target = y['verification.result']\n",
    "\n",
    "dt = DecisionTreeClassifier(random_state=42)     \n",
    "\n",
    "cv_results_dt = cross_validate(dt,\n",
    "                            X, target,\n",
    "                            cv=5,\n",
    "                            scoring='roc_auc',\n",
    "                            return_train_score=False\n",
    "                           )\n",
    "\n",
    "mean_test_score = cv_results_dt['test_score'].mean()\n",
    "\n",
    "print(f\"Decision trees ROC AUC: {mean_test_score:.3f}\")\n",
    "print(\"Fold Scores:\", cv_results_dt['test_score'])\n",
    "\n",
    "pipeline = make_pipeline(MinMaxScaler(feature_range=(0, 1)),\n",
    "                         LogisticRegression() \n",
    "                        )\n",
    "\n",
    "cv_results_lr = cross_validate(pipeline,\n",
    "                            X, target,\n",
    "                            cv=5,\n",
    "                            scoring='roc_auc',\n",
    "                            return_train_score=False\n",
    "                           )\n",
    "\n",
    "mean_test_score = cv_results_lr['test_score'].mean()\n",
    "\n",
    "print(f\"Logistic regression ROC AUC: {mean_test_score:.3f}\")\n",
    "print(\"Fold Scores:\", cv_results_lr['test_score'])"
   ]
  },
  {
   "cell_type": "markdown",
   "id": "3bad040c-aa23-4c1a-8972-53bb8a855e3a",
   "metadata": {},
   "source": [
    "### Random forest classifier"
   ]
  },
  {
   "cell_type": "code",
   "execution_count": 17,
   "id": "14dcfbe1-9f4b-40ce-a766-d4ad90aa2d71",
   "metadata": {},
   "outputs": [
    {
     "name": "stdout",
     "output_type": "stream",
     "text": [
      "Fitting 4 folds for each of 72 candidates, totalling 288 fits\n",
      "RandomForestClassifier(criterion='entropy', max_depth=5, min_samples_leaf=5,\n",
      "                       min_samples_split=5, n_estimators=350, random_state=42)\n",
      "0.963264813181806\n"
     ]
    }
   ],
   "source": [
    "X_train, X_test, y_train, y_test = train_test_split(X, target, test_size=0.3, random_state=42)\n",
    "\n",
    "rfc = RandomForestClassifier(random_state=42)\n",
    "\n",
    "params = {'n_estimators': [200, 350,  500],\n",
    "          'min_samples_split': [5, 10],\n",
    "          'min_samples_leaf': [5, 7],\n",
    "          'max_depth' : [3, 4, 5],\n",
    "          'criterion' :['gini', 'entropy']\n",
    "         }\n",
    "\n",
    "grid_search = GridSearchCV(estimator=rfc, \n",
    "                           param_grid=params, \n",
    "                           cv=4, n_jobs=-1, verbose=1, \n",
    "                           scoring = \"roc_auc\")\n",
    "\n",
    "grid_search.fit(X_train, y_train)\n",
    "\n",
    "print(grid_search.best_estimator_)\n",
    "print(grid_search.best_score_)"
   ]
  },
  {
   "cell_type": "code",
   "execution_count": 18,
   "id": "3e0bb57c-dec4-43e5-ba50-5e8d52c89e3d",
   "metadata": {},
   "outputs": [
    {
     "data": {
      "image/png": "[encoded data removed]",
      "text/plain": [
       "<Figure size 640x480 with 1 Axes>"
      ]
     },
     "metadata": {},
     "output_type": "display_data"
    }
   ],
   "source": [
    "results = grid_search.cv_results_\n",
    "scores = results['mean_test_score']\n",
    "_ = plt.hist(scores, bins=50)"
   ]
  },
  {
   "cell_type": "code",
   "execution_count": 19,
   "id": "98bbc8d7-f7ee-4bd2-8352-a8edac26a5a4",
   "metadata": {},
   "outputs": [
    {
     "name": "stdout",
     "output_type": "stream",
     "text": [
      "process.b1.capacity  -  0.08\n",
      "process.b2.capacity  -  0.05\n",
      "process.b3.capacity  -  0.02\n",
      "process.b4.capacity  -  0.01\n",
      "property.price  -  0.41\n",
      "property.product  -  0.08\n",
      "property.winner  -  0.35\n"
     ]
    }
   ],
   "source": [
    "#Feature importance\n",
    "for f in range(len(X.columns)):\n",
    "    print(X.columns[f], ' - ', grid_search.best_estimator_.feature_importances_[f].round(2))"
   ]
  },
  {
   "cell_type": "code",
   "execution_count": 20,
   "id": "fe7798d4-ac15-42b0-aaed-7523378b4295",
   "metadata": {},
   "outputs": [
    {
     "name": "stdout",
     "output_type": "stream",
     "text": [
      "RandomForest mean ROC AUC: 0.9689650097249644\n",
      "[0.9534583063994829, 0.9668751324994701, 0.9741891032435869, 0.9801750216076058, 0.9701274848746758]\n"
     ]
    }
   ],
   "source": [
    "#random foredt + StratifiedKFold\n",
    "kf = StratifiedKFold(n_splits=5, random_state=42, shuffle=True)\n",
    "mean_auc_rf = []\n",
    "\n",
    "for train_index , test_index in kf.split(X, target):\n",
    "    X_train , X_test = X.iloc[train_index,:],X.iloc[test_index,:]\n",
    "    y_train , y_test = target[train_index] , target[test_index]\n",
    "\n",
    "    rf = RandomForestClassifier(criterion='entropy', \n",
    "                                max_depth=5, \n",
    "                                min_samples_leaf=5,\n",
    "                                min_samples_split=5, \n",
    "                                n_estimators=350, \n",
    "                                random_state=42\n",
    "                               )\n",
    "    rf.fit(X_train, y_train)\n",
    "\n",
    "    probs = rf.predict_proba(X_test)\n",
    "    roc_auc = roc_auc_score(y_test, probs[:,1])\n",
    "    mean_auc_rf.append(roc_auc)  \n",
    "\n",
    "print(f\"RandomForest mean ROC AUC: {np.mean(mean_auc_rf)}\")\n",
    "print(mean_auc_rf)"
   ]
  },
  {
   "cell_type": "markdown",
   "id": "aac66b3b-7b16-40d7-9989-bd41eca5f8f4",
   "metadata": {},
   "source": [
    "### Boosting"
   ]
  },
  {
   "cell_type": "code",
   "execution_count": 22,
   "id": "9c881f76-bd6e-42d9-bf7e-035a93ce747d",
   "metadata": {},
   "outputs": [],
   "source": [
    "from sklearn.ensemble import GradientBoostingClassifier"
   ]
  },
  {
   "cell_type": "code",
   "execution_count": 23,
   "id": "75680145-71a0-47d2-831a-a50571ec408a",
   "metadata": {},
   "outputs": [
    {
     "name": "stdout",
     "output_type": "stream",
     "text": [
      "gbc ROC AUC: 0.947\n",
      "Fold Scores: [0.88555807 0.85896756 0.99745601 0.99751513 0.99783924]\n"
     ]
    }
   ],
   "source": [
    "#gradient boosting + cross_validate\n",
    "gbc = GradientBoostingClassifier()\n",
    "    \n",
    "cv_results_gbc = cross_validate(gbc,\n",
    "                                X, target,\n",
    "                                cv=5,\n",
    "                                scoring='roc_auc',\n",
    "                                return_train_score=False\n",
    "                               )\n",
    "\n",
    "mean_test_score = cv_results_gbc['test_score'].mean()\n",
    "\n",
    "print(f\"gbc ROC AUC: {mean_test_score:.3f}\")\n",
    "print(\"Fold Scores:\", cv_results_gbc['test_score'])"
   ]
  },
  {
   "cell_type": "code",
   "execution_count": 24,
   "id": "a73f2159-863e-493e-a7dc-9143c98ccf47",
   "metadata": {},
   "outputs": [],
   "source": [
    "from lightgbm import LGBMClassifier"
   ]
  },
  {
   "cell_type": "code",
   "execution_count": 25,
   "id": "7644c7c2-115f-4c5c-b416-94105078e0eb",
   "metadata": {},
   "outputs": [
    {
     "name": "stdout",
     "output_type": "stream",
     "text": [
      "GBC mean ROC AUC: 0.9977492091486063\n",
      "[0.9987879767291532, 0.9983835064659742, 0.9943025227899088, 0.9982443820224719, 0.9990276577355229]\n",
      "LGBM mean ROC AUC: 0.9999783923941227\n",
      "[1.0, 1.0, 1.0, 0.9998919619706137, 1.0]\n"
     ]
    }
   ],
   "source": [
    "#lightgbm and gradient boosting + StratifiedKFold\n",
    "kf = StratifiedKFold(n_splits=5, shuffle=True)\n",
    "mean_auc_gbc = []\n",
    "mean_auc_lgbm = []\n",
    "\n",
    "\n",
    "for train_index , test_index in kf.split(X, target):\n",
    "    X_train , X_test = X.iloc[train_index,:],X.iloc[test_index,:]\n",
    "    y_train , y_test = target[train_index] , target[test_index]\n",
    "\n",
    "    gbc = GradientBoostingClassifier()\n",
    "    gbc.fit(X_train, y_train)\n",
    "\n",
    "    probs = gbc.predict_proba(X_test)\n",
    "    roc_auc = roc_auc_score(y_test, probs[:,1])\n",
    "    mean_auc_gbc.append(roc_auc)    \n",
    "\n",
    "    lgbm = LGBMClassifier(verbosity=-1, random_state=42)\n",
    "    lgbm.fit(X=X_train,\n",
    "              y=y_train,\n",
    "              eval_set=(X_test, y_test),\n",
    "              eval_metric='logloss'\n",
    "             )\n",
    "\n",
    "    importance = lgbm.feature_importances_\n",
    "   \n",
    "    probs = lgbm.predict_proba(X_test)\n",
    "    roc_auc = roc_auc_score(y_test, probs[:,1])\n",
    "    mean_auc_lgbm.append(roc_auc)\n",
    "    \n",
    "print(f\"GBC mean ROC AUC: {np.mean(mean_auc_gbc)}\")\n",
    "print(mean_auc_gbc)\n",
    "print(f\"LGBM mean ROC AUC: {np.mean(mean_auc_lgbm)}\")\n",
    "print(mean_auc_lgbm)\n"
   ]
  },
  {
   "cell_type": "markdown",
   "id": "259d3ce6-9c11-4fa3-bfe5-802e3405ebcb",
   "metadata": {},
   "source": [
    "LGBM показав найвищий ROC AUC серед всіх моделей. Близький до 1.\n",
    "Помітив різницю у score GBC у випадку використання cross_validate в порівнні з stratifiedkfold. Як виявилося це пов'язано із вказання параметра shuffle=True у випадку stratifiedkfold, в той час як в cross_validate у нього значення False."
   ]
  },
  {
   "cell_type": "code",
   "execution_count": 27,
   "id": "137399e4-2feb-417f-a2d0-7a0988adf303",
   "metadata": {},
   "outputs": [
    {
     "name": "stdout",
     "output_type": "stream",
     "text": [
      "               feature  importance\n",
      "4       property.price         911\n",
      "5     property.product         776\n",
      "6      property.winner         702\n",
      "0  process.b1.capacity         287\n",
      "1  process.b2.capacity         259\n",
      "3  process.b4.capacity          28\n",
      "2  process.b3.capacity          23\n"
     ]
    }
   ],
   "source": [
    "feature_importance = pd.DataFrame({\n",
    "    'feature': lgbm.feature_name_,\n",
    "    'importance': lgbm.feature_importances_\n",
    "})\n",
    "feature_importance = feature_importance.sort_values(by='importance', ascending=False)\n",
    "print(feature_importance)"
   ]
  },
  {
   "cell_type": "markdown",
   "id": "5d6a6e86-811f-49c3-a2d2-048a59a6d29d",
   "metadata": {},
   "source": [
    "### Stacking"
   ]
  },
  {
   "cell_type": "code",
   "execution_count": 29,
   "id": "92eaac8f-503a-4d93-be4a-7efac35279a8",
   "metadata": {},
   "outputs": [],
   "source": [
    "from sklearn.ensemble import StackingClassifier"
   ]
  },
  {
   "cell_type": "code",
   "execution_count": 30,
   "id": "31a63afa-f53a-4099-85e7-ded0465ed579",
   "metadata": {},
   "outputs": [
    {
     "name": "stdout",
     "output_type": "stream",
     "text": [
      "stacking ROC AUC: 0.939\n",
      "Fold Scores: [0.88014437 0.82319271 0.99602502 0.99740709 0.99827139]\n"
     ]
    }
   ],
   "source": [
    "#stacking of 3 models\n",
    "dt = DecisionTreeClassifier(max_depth=4)\n",
    "rfc = RandomForestClassifier(max_depth=4, \n",
    "                             min_samples_leaf=5, \n",
    "                             min_samples_split=5,\n",
    "                             n_estimators=500, \n",
    "                             random_state=42\n",
    "                            )\n",
    "gbc = GradientBoostingClassifier()\n",
    "\n",
    "estimators_list = [('desicion tree', dt),\n",
    "                   ('random forest', rfc),\n",
    "                   ('gradient boosting', gbc)\n",
    "                  ]\n",
    "                    \n",
    "\n",
    "sc = StackingClassifier(estimators=estimators_list)\n",
    "\n",
    "cv_results_sc = cross_validate(sc,\n",
    "                               X, target,\n",
    "                               cv=5,\n",
    "                               scoring='roc_auc',\n",
    "                               return_train_score=False\n",
    "                               )\n",
    "\n",
    "mean_test_score = cv_results_sc['test_score'].mean()\n",
    "\n",
    "print(f\"stacking ROC AUC: {mean_test_score:.3f}\")\n",
    "print(\"Fold Scores:\", cv_results_sc['test_score'])"
   ]
  }
 ],
 "metadata": {
  "kernelspec": {
   "display_name": "Python 3 (ipykernel)",
   "language": "python",
   "name": "python3"
  },
  "language_info": {
   "codemirror_mode": {
    "name": "ipython",
    "version": 3
   },
   "file_extension": ".py",
   "mimetype": "text/x-python",
   "name": "python",
   "nbconvert_exporter": "python",
   "pygments_lexer": "ipython3",
   "version": "3.11.7"
  }
 },
 "nbformat": 4,
 "nbformat_minor": 5
}
