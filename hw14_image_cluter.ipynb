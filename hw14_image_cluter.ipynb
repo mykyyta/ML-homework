{
 "cells": [
  {
   "cell_type": "code",
   "execution_count": 1,
   "id": "b28a021c-3b3b-43ca-81b8-4cab31b77dcf",
   "metadata": {},
   "outputs": [
    {
     "name": "stderr",
     "output_type": "stream",
     "text": [
      "/opt/anaconda3/lib/python3.11/site-packages/albumentations/__init__.py:13: UserWarning: A new version of Albumentations is available: 1.4.15 (you have 1.4.14). Upgrade using: pip install -U albumentations. To disable automatic update checks, set the environment variable NO_ALBUMENTATIONS_UPDATE to 1.\n",
      "  check_for_updates()\n"
     ]
    }
   ],
   "source": [
    "import torch\n",
    "import torch.nn as nn\n",
    "import torch.optim as optim\n",
    "import torch.nn.functional as F\n",
    "from torch.utils.data import Dataset, DataLoader\n",
    "import torchvision.datasets as datasets\n",
    "from torchvision.transforms import v2\n",
    "from torchvision.models import resnet18, densenet121\n",
    "from tqdm import tqdm\n",
    "import albumentations as albu\n",
    "from albumentations.pytorch import ToTensorV2\n",
    "import matplotlib.pyplot as plt\n",
    "import numpy as np"
   ]
  },
  {
   "cell_type": "code",
   "execution_count": 2,
   "id": "a5c47d2a-e216-4cac-9007-8d3558d4f396",
   "metadata": {
    "scrolled": true
   },
   "outputs": [
    {
     "data": {
      "application/vnd.jupyter.widget-view+json": {
       "model_id": "c71bec6a1e044df2b72ed268994b8396",
       "version_major": 2,
       "version_minor": 0
      },
      "text/plain": [
       "VBox(children=(HTML(value='<center> <img\\nsrc=https://huggingface.co/front/assets/huggingface_logo-noborder.sv…"
      ]
     },
     "metadata": {},
     "output_type": "display_data"
    }
   ],
   "source": [
    "from huggingface_hub import login\n",
    "login()"
   ]
  },
  {
   "cell_type": "code",
   "execution_count": 3,
   "id": "a3c9807e-8aca-415b-94b6-baa148f39070",
   "metadata": {},
   "outputs": [],
   "source": [
    "from datasets import load_dataset"
   ]
  },
  {
   "cell_type": "code",
   "execution_count": 4,
   "id": "017339db-47bb-4e93-9609-7f38491df2bb",
   "metadata": {},
   "outputs": [],
   "source": [
    "train = load_dataset(\"zh-plus/tiny-imagenet\", split=\"train\")\n",
    "test  = load_dataset(\"zh-plus/tiny-imagenet\", split=\"valid\")"
   ]
  },
  {
   "cell_type": "code",
   "execution_count": 5,
   "id": "9f6b8fa5-0dd6-46e6-bf11-6ddd16d63ebc",
   "metadata": {},
   "outputs": [],
   "source": [
    "class CustomDataset(Dataset):\n",
    "    def __init__(self, dataset, transform=None, target_transform=None, augmentations: albu.Compose = None):\n",
    "        self.dataset = dataset\n",
    "        self.transform = transform\n",
    "        self.target_transform = target_transform\n",
    "        self.augmentations = augmentations\n",
    "\n",
    "    def __len__(self):\n",
    "        return len(self.dataset)\n",
    "\n",
    "    def __getitem__(self, idx):\n",
    "        image = self.dataset[idx]['image']\n",
    "        label = self.dataset[idx]['label']\n",
    "        if self.transform:\n",
    "            image = self.transform(image)\n",
    "        if self.target_transform:\n",
    "            label = self.target_transform(label)\n",
    "        if self.augmentations:\n",
    "            image = image.convert(\"RGB\")\n",
    "            image = np.array(image)\n",
    "            augmented = self.augmentations(image=image)\n",
    "            image = torch.from_numpy(augmented[\"image\"]).permute(2, 0, 1)\n",
    "            \n",
    "        return image, label"
   ]
  },
  {
   "cell_type": "code",
   "execution_count": 6,
   "id": "3d1d3753-4a59-4230-b7ab-e5e07a471c1c",
   "metadata": {},
   "outputs": [],
   "source": [
    "# transform_train = v2.Compose([\n",
    "#     v2.RandomHorizontalFlip(),\n",
    "#     v2.RandomResizedCrop(224),\n",
    "#     v2.ToTensor(),\n",
    "#     v2.Normalize(mean=[0.485, 0.456, 0.406], std=[0.229, 0.224, 0.225]) \n",
    "# ])\n",
    "# transform_val = v2.Compose([\n",
    "#     v2.Resize(256),\n",
    "#     v2.CenterCrop(224),\n",
    "#     v2.ToTensor(),\n",
    "#     v2.Normalize(mean=[0.485, 0.456, 0.406], std=[0.229, 0.224, 0.225]) \n",
    "# ])\n",
    "\n",
    "# train_dataset = CustomDataset(train, transform = transform_train)\n",
    "# test_dataset = CustomDataset(test, transform = transform_val)"
   ]
  },
  {
   "cell_type": "code",
   "execution_count": 7,
   "id": "203e5d11-b357-41c6-a9b1-76e00cd145eb",
   "metadata": {},
   "outputs": [],
   "source": [
    "transform_train = albu.Compose([\n",
    "    albu.RandomResizedCrop(height=224, width=224),  # Random crop with resizing\n",
    "    albu.HorizontalFlip(p=0.5),  # Random horizontal flip with a 50% chance\n",
    "    #albu.ShiftScaleRotate(shift_limit=0.0625, scale_limit=0.1, rotate_limit=15, p=0.5),  # Random shifts, scales, and rotations\n",
    "    #albu.ColorJitter(brightness=0.2, contrast=0.2, saturation=0.2, hue=0.1, p=0.5),  # Random brightness/contrast/saturation/hue\n",
    "    albu.GaussianBlur(blur_limit=(3, 5), p=0.3),  # Add random blur to the image\n",
    "    albu.RandomBrightnessContrast(brightness_limit=0.2, contrast_limit=0.2, p=0.5),  # Random brightness and contrast adjustment\n",
    "    #albu.HueSaturationValue(hue_shift_limit=20, sat_shift_limit=30, val_shift_limit=20, p=0.5),  # Random changes in hue, saturation, and value\n",
    "    albu.CoarseDropout(max_holes=1, max_height=32, max_width=32, p=0.2), \n",
    "    albu.Normalize(mean=[0.485, 0.456, 0.406], std=[0.229, 0.224, 0.225]), \n",
    "])\n",
    "transform_val = albu.Compose([\n",
    "    albu.Resize(height=256, width=256), \n",
    "    albu.CenterCrop(height=224, width=224), \n",
    "    albu.Normalize(mean=[0.485, 0.456, 0.406], std=[0.229, 0.224, 0.225]), \n",
    "])\n",
    "\n",
    "train_dataset = CustomDataset(train, augmentations = transform_train)\n",
    "test_dataset = CustomDataset(test, augmentations = transform_val)"
   ]
  },
  {
   "cell_type": "code",
   "execution_count": 8,
   "id": "5a233c28-10a2-4848-b952-93c8d9ba4912",
   "metadata": {},
   "outputs": [],
   "source": [
    "batch_size = 64\n",
    "\n",
    "train_loader = DataLoader(dataset=train_dataset, \n",
    "                          batch_size=batch_size, \n",
    "                          shuffle=True\n",
    "                         )\n",
    "\n",
    "\n",
    "test_loader = DataLoader(dataset=test_dataset, \n",
    "                         batch_size=batch_size, \n",
    "                         shuffle=True\n",
    "                        )"
   ]
  },
  {
   "cell_type": "code",
   "execution_count": 9,
   "id": "e6f980c7-8dfe-41b0-b817-4982d6bcc170",
   "metadata": {},
   "outputs": [
    {
     "name": "stdout",
     "output_type": "stream",
     "text": [
      "Using mps device\n"
     ]
    }
   ],
   "source": [
    "device = (\n",
    "    \"cuda\"\n",
    "    if torch.cuda.is_available()\n",
    "    else \"mps\"\n",
    "    if torch.backends.mps.is_available()\n",
    "    else \"cpu\"\n",
    ")\n",
    "print(f\"Using {device} device\")"
   ]
  },
  {
   "cell_type": "code",
   "execution_count": 10,
   "id": "c6b1224b-c258-4b37-adeb-3440f351d769",
   "metadata": {},
   "outputs": [],
   "source": [
    "model_conv = resnet18(weights='IMAGENET1K_V1')\n",
    "for param in model_conv.parameters():\n",
    "    param.requires_grad = False\n",
    "\n",
    "num_ftrs = model_conv.fc.in_features\n",
    "model_conv.fc = nn.Linear(num_ftrs, 200)\n",
    "\n",
    "model_conv = model_conv.to(device)\n",
    "\n",
    "criterion = nn.CrossEntropyLoss()\n",
    "\n",
    "optimizer_conv = optim.Adam(model_conv.fc.parameters())"
   ]
  },
  {
   "cell_type": "code",
   "execution_count": 11,
   "id": "708a1fec-b5f3-48b6-ae03-08b19a9bbefd",
   "metadata": {},
   "outputs": [],
   "source": [
    "def train_loop(dataloader, model, criterion, optimizer): \n",
    "    model.train()\n",
    "    losses = []\n",
    "    \n",
    "    for batch_idx, (data, targets) in enumerate(tqdm(dataloader)):\n",
    "        data = data.to(device=device)\n",
    "        targets = targets.to(device=device)\n",
    "    \n",
    "        scores = model(data)\n",
    "        loss = criterion(scores, targets)\n",
    "        losses.append(loss.item())\n",
    "    \n",
    "        optimizer.zero_grad()\n",
    "    \n",
    "        loss.backward()\n",
    "    \n",
    "    \n",
    "        optimizer.step()\n",
    "\n",
    "    logs = {\"losses\": np.array(losses)}\n",
    "\n",
    "    return logs"
   ]
  },
  {
   "cell_type": "code",
   "execution_count": 12,
   "id": "f08eb41a-73fd-4c8b-a7f8-97885f37bc22",
   "metadata": {},
   "outputs": [],
   "source": [
    "def check_accuracy(loader, model):\n",
    "    num_correct = 0\n",
    "    num_samples = 0\n",
    "    model.eval()\n",
    "\n",
    "    with torch.no_grad():\n",
    "        for x, y in tqdm(loader):\n",
    "            x = x.to(device=device)\n",
    "            y = y.to(device=device)\n",
    "\n",
    "            scores = model(x)\n",
    "\n",
    "            _, predictions = scores.max(1)\n",
    "\n",
    "            num_correct += (predictions == y).sum()\n",
    "            num_samples += predictions.size(0)\n",
    "\n",
    "        print(\n",
    "            f\"           {num_correct} / {num_samples} with accuracy\"\n",
    "            f\" {float(num_correct) / float(num_samples):.3f}\"\n",
    "        )\n",
    "    \n",
    "    model.train()\n",
    "    \n",
    "    return float(num_correct) / float(num_samples)"
   ]
  },
  {
   "cell_type": "code",
   "execution_count": 13,
   "id": "30ab3ce5-4f46-432c-8862-e91e7521cd2c",
   "metadata": {},
   "outputs": [],
   "source": [
    "num_epochs = 10"
   ]
  },
  {
   "cell_type": "code",
   "execution_count": 14,
   "id": "5be69bfe-439e-4903-9d56-8db7d7f91bb0",
   "metadata": {},
   "outputs": [
    {
     "name": "stdout",
     "output_type": "stream",
     "text": [
      "Epoch: 0\n"
     ]
    },
    {
     "name": "stderr",
     "output_type": "stream",
     "text": [
      "100%|███████████████████████████████████████| 1563/1563 [09:26<00:00,  2.76it/s]\n"
     ]
    },
    {
     "name": "stdout",
     "output_type": "stream",
     "text": [
      "New lowest loss: 3.7005226384807837. Saving model...\n",
      "          loss: 3.701\n"
     ]
    },
    {
     "name": "stderr",
     "output_type": "stream",
     "text": [
      "100%|█████████████████████████████████████████| 157/157 [00:47<00:00,  3.32it/s]\n"
     ]
    },
    {
     "name": "stdout",
     "output_type": "stream",
     "text": [
      "           4231 / 10000 with accuracy 0.423\n",
      "Epoch: 1\n"
     ]
    },
    {
     "name": "stderr",
     "output_type": "stream",
     "text": [
      "100%|███████████████████████████████████████| 1563/1563 [48:19<00:00,  1.86s/it]\n"
     ]
    },
    {
     "name": "stdout",
     "output_type": "stream",
     "text": [
      "New lowest loss: 3.1716797502850844. Saving model...\n",
      "          loss: 3.172\n"
     ]
    },
    {
     "name": "stderr",
     "output_type": "stream",
     "text": [
      "100%|█████████████████████████████████████████| 157/157 [00:35<00:00,  4.45it/s]\n"
     ]
    },
    {
     "name": "stdout",
     "output_type": "stream",
     "text": [
      "           4562 / 10000 with accuracy 0.456\n",
      "Epoch: 2\n"
     ]
    },
    {
     "name": "stderr",
     "output_type": "stream",
     "text": [
      "100%|███████████████████████████████████████| 1563/1563 [08:58<00:00,  2.90it/s]\n"
     ]
    },
    {
     "name": "stdout",
     "output_type": "stream",
     "text": [
      "New lowest loss: 3.0926063350584747. Saving model...\n",
      "          loss: 3.093\n"
     ]
    },
    {
     "name": "stderr",
     "output_type": "stream",
     "text": [
      "100%|█████████████████████████████████████████| 157/157 [00:45<00:00,  3.43it/s]\n"
     ]
    },
    {
     "name": "stdout",
     "output_type": "stream",
     "text": [
      "           4532 / 10000 with accuracy 0.453\n",
      "Epoch: 3\n"
     ]
    },
    {
     "name": "stderr",
     "output_type": "stream",
     "text": [
      "100%|███████████████████████████████████████| 1563/1563 [09:48<00:00,  2.65it/s]\n"
     ]
    },
    {
     "name": "stdout",
     "output_type": "stream",
     "text": [
      "New lowest loss: 3.0614714119118602. Saving model...\n",
      "          loss: 3.061\n"
     ]
    },
    {
     "name": "stderr",
     "output_type": "stream",
     "text": [
      "100%|█████████████████████████████████████████| 157/157 [00:52<00:00,  3.00it/s]\n"
     ]
    },
    {
     "name": "stdout",
     "output_type": "stream",
     "text": [
      "           4675 / 10000 with accuracy 0.468\n",
      "Epoch: 4\n"
     ]
    },
    {
     "name": "stderr",
     "output_type": "stream",
     "text": [
      "100%|███████████████████████████████████████| 1563/1563 [10:17<00:00,  2.53it/s]\n"
     ]
    },
    {
     "name": "stdout",
     "output_type": "stream",
     "text": [
      "New lowest loss: 3.047256177766767. Saving model...\n",
      "          loss: 3.047\n"
     ]
    },
    {
     "name": "stderr",
     "output_type": "stream",
     "text": [
      "100%|█████████████████████████████████████████| 157/157 [00:52<00:00,  2.97it/s]\n"
     ]
    },
    {
     "name": "stdout",
     "output_type": "stream",
     "text": [
      "           4673 / 10000 with accuracy 0.467\n",
      "Epoch: 5\n"
     ]
    },
    {
     "name": "stderr",
     "output_type": "stream",
     "text": [
      "100%|███████████████████████████████████████| 1563/1563 [10:15<00:00,  2.54it/s]\n"
     ]
    },
    {
     "name": "stdout",
     "output_type": "stream",
     "text": [
      "New lowest loss: 3.039154429048281. Saving model...\n",
      "          loss: 3.039\n"
     ]
    },
    {
     "name": "stderr",
     "output_type": "stream",
     "text": [
      "100%|█████████████████████████████████████████| 157/157 [00:53<00:00,  2.93it/s]\n"
     ]
    },
    {
     "name": "stdout",
     "output_type": "stream",
     "text": [
      "           4748 / 10000 with accuracy 0.475\n",
      "Epoch: 6\n"
     ]
    },
    {
     "name": "stderr",
     "output_type": "stream",
     "text": [
      "100%|███████████████████████████████████████| 1563/1563 [10:15<00:00,  2.54it/s]\n"
     ]
    },
    {
     "name": "stdout",
     "output_type": "stream",
     "text": [
      "New lowest loss: 3.0179035131243355. Saving model...\n",
      "          loss: 3.018\n"
     ]
    },
    {
     "name": "stderr",
     "output_type": "stream",
     "text": [
      "100%|█████████████████████████████████████████| 157/157 [00:52<00:00,  3.00it/s]\n"
     ]
    },
    {
     "name": "stdout",
     "output_type": "stream",
     "text": [
      "           4753 / 10000 with accuracy 0.475\n",
      "Epoch: 7\n"
     ]
    },
    {
     "name": "stderr",
     "output_type": "stream",
     "text": [
      "100%|███████████████████████████████████████| 1563/1563 [10:08<00:00,  2.57it/s]\n"
     ]
    },
    {
     "name": "stdout",
     "output_type": "stream",
     "text": [
      "New lowest loss: 3.0088607442737465. Saving model...\n",
      "          loss: 3.009\n"
     ]
    },
    {
     "name": "stderr",
     "output_type": "stream",
     "text": [
      "100%|█████████████████████████████████████████| 157/157 [00:50<00:00,  3.09it/s]\n"
     ]
    },
    {
     "name": "stdout",
     "output_type": "stream",
     "text": [
      "           4714 / 10000 with accuracy 0.471\n",
      "Epoch: 8\n"
     ]
    },
    {
     "name": "stderr",
     "output_type": "stream",
     "text": [
      "100%|███████████████████████████████████████| 1563/1563 [09:58<00:00,  2.61it/s]\n"
     ]
    },
    {
     "name": "stdout",
     "output_type": "stream",
     "text": [
      "New lowest loss: 3.005090442744113. Saving model...\n",
      "          loss: 3.005\n"
     ]
    },
    {
     "name": "stderr",
     "output_type": "stream",
     "text": [
      "100%|█████████████████████████████████████████| 157/157 [00:50<00:00,  3.11it/s]\n"
     ]
    },
    {
     "name": "stdout",
     "output_type": "stream",
     "text": [
      "           4793 / 10000 with accuracy 0.479\n",
      "Epoch: 9\n"
     ]
    },
    {
     "name": "stderr",
     "output_type": "stream",
     "text": [
      "100%|███████████████████████████████████████| 1563/1563 [09:57<00:00,  2.62it/s]\n"
     ]
    },
    {
     "name": "stdout",
     "output_type": "stream",
     "text": [
      "New lowest loss: 2.9891203674687383. Saving model...\n",
      "          loss: 2.989\n"
     ]
    },
    {
     "name": "stderr",
     "output_type": "stream",
     "text": [
      "100%|█████████████████████████████████████████| 157/157 [00:50<00:00,  3.11it/s]"
     ]
    },
    {
     "name": "stdout",
     "output_type": "stream",
     "text": [
      "           4782 / 10000 with accuracy 0.478\n"
     ]
    },
    {
     "name": "stderr",
     "output_type": "stream",
     "text": [
      "\n"
     ]
    }
   ],
   "source": [
    "losses=[]\n",
    "scores = []\n",
    "lowest_loss = float('inf')\n",
    "for epoch in range(num_epochs):\n",
    "    print(f\"Epoch: {epoch}\")\n",
    "    train_logs = train_loop(train_loader, model_conv, criterion, optimizer_conv)\n",
    "    losses.append(np.mean(train_logs[\"losses\"]))\n",
    "\n",
    "    avg_loss = np.sum(train_logs[\"losses\"])/ len(train_loader)\n",
    "    if avg_loss < lowest_loss:\n",
    "        print(f'New lowest loss: {avg_loss}. Saving model...')\n",
    "        best_params = model_conv.state_dict()\n",
    "        lowest_loss = avg_loss\n",
    "        \n",
    "    print(f\"          loss: {losses[-1]:.3f}\")\n",
    "    score = check_accuracy(test_loader, model_conv)\n",
    "    scores.append(score)"
   ]
  },
  {
   "cell_type": "code",
   "execution_count": 15,
   "id": "23633d41-6469-484b-a93b-74c5684b62e8",
   "metadata": {},
   "outputs": [
    {
     "data": {
      "image/png": "[encoded data removed]",
      "text/plain": [
       "<Figure size 2000x600 with 2 Axes>"
      ]
     },
     "metadata": {},
     "output_type": "display_data"
    }
   ],
   "source": [
    "fix, axes = plt.subplots(ncols=2, figsize=(20, 6))\n",
    "\n",
    "axes[0].plot(np.arange(len(losses)), losses, \".-\")\n",
    "axes[0].set_title(\"loss\")\n",
    "axes[0].grid()\n",
    "\n",
    "axes[1].plot(np.arange(len(scores)), scores, '.-')\n",
    "axes[1].set_title(\"score\")\n",
    "axes[1].grid()"
   ]
  }
 ],
 "metadata": {
  "kernelspec": {
   "display_name": "Python 3 (ipykernel)",
   "language": "python",
   "name": "python3"
  },
  "language_info": {
   "codemirror_mode": {
    "name": "ipython",
    "version": 3
   },
   "file_extension": ".py",
   "mimetype": "text/x-python",
   "name": "python",
   "nbconvert_exporter": "python",
   "pygments_lexer": "ipython3",
   "version": "3.11.7"
  }
 },
 "nbformat": 4,
 "nbformat_minor": 5
}
