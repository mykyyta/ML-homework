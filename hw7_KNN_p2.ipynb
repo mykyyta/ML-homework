{
 "cells": [
  {
   "cell_type": "code",
   "execution_count": 2,
   "id": "c290b76c-1975-4c2e-bb67-b9a1674d52e4",
   "metadata": {},
   "outputs": [],
   "source": [
    "import pandas as pd\n",
    "import numpy as np\n",
    "import matplotlib.pyplot as plt\n",
    "import seaborn as sns"
   ]
  },
  {
   "cell_type": "code",
   "execution_count": 3,
   "id": "c2e389e6-ea57-4403-a79c-8266836a9663",
   "metadata": {},
   "outputs": [],
   "source": [
    "prices = pd.read_csv('House Prices/train.csv')"
   ]
  },
  {
   "cell_type": "code",
   "execution_count": 4,
   "id": "7a224bef-7717-40b2-8fa4-00e43d371c8b",
   "metadata": {},
   "outputs": [
    {
     "data": {
      "text/plain": [
       "(1460, 81)"
      ]
     },
     "execution_count": 4,
     "metadata": {},
     "output_type": "execute_result"
    }
   ],
   "source": [
    "prices.shape"
   ]
  },
  {
   "cell_type": "code",
   "execution_count": 5,
   "id": "5e8f2ba6-9a6c-4220-876c-67b6a4006ab7",
   "metadata": {},
   "outputs": [
    {
     "data": {
      "text/html": [
       "<div>\n",
       "<style scoped>\n",
       "    .dataframe tbody tr th:only-of-type {\n",
       "        vertical-align: middle;\n",
       "    }\n",
       "\n",
       "    .dataframe tbody tr th {\n",
       "        vertical-align: top;\n",
       "    }\n",
       "\n",
       "    .dataframe thead th {\n",
       "        text-align: right;\n",
       "    }\n",
       "</style>\n",
       "<table border=\"1\" class=\"dataframe\">\n",
       "  <thead>\n",
       "    <tr style=\"text-align: right;\">\n",
       "      <th></th>\n",
       "      <th>Id</th>\n",
       "      <th>MSSubClass</th>\n",
       "      <th>MSZoning</th>\n",
       "      <th>LotFrontage</th>\n",
       "      <th>LotArea</th>\n",
       "      <th>Street</th>\n",
       "      <th>Alley</th>\n",
       "      <th>LotShape</th>\n",
       "      <th>LandContour</th>\n",
       "      <th>Utilities</th>\n",
       "      <th>...</th>\n",
       "      <th>PoolArea</th>\n",
       "      <th>PoolQC</th>\n",
       "      <th>Fence</th>\n",
       "      <th>MiscFeature</th>\n",
       "      <th>MiscVal</th>\n",
       "      <th>MoSold</th>\n",
       "      <th>YrSold</th>\n",
       "      <th>SaleType</th>\n",
       "      <th>SaleCondition</th>\n",
       "      <th>SalePrice</th>\n",
       "    </tr>\n",
       "  </thead>\n",
       "  <tbody>\n",
       "    <tr>\n",
       "      <th>0</th>\n",
       "      <td>1</td>\n",
       "      <td>60</td>\n",
       "      <td>RL</td>\n",
       "      <td>65.0</td>\n",
       "      <td>8450</td>\n",
       "      <td>Pave</td>\n",
       "      <td>NaN</td>\n",
       "      <td>Reg</td>\n",
       "      <td>Lvl</td>\n",
       "      <td>AllPub</td>\n",
       "      <td>...</td>\n",
       "      <td>0</td>\n",
       "      <td>NaN</td>\n",
       "      <td>NaN</td>\n",
       "      <td>NaN</td>\n",
       "      <td>0</td>\n",
       "      <td>2</td>\n",
       "      <td>2008</td>\n",
       "      <td>WD</td>\n",
       "      <td>Normal</td>\n",
       "      <td>208500</td>\n",
       "    </tr>\n",
       "    <tr>\n",
       "      <th>1</th>\n",
       "      <td>2</td>\n",
       "      <td>20</td>\n",
       "      <td>RL</td>\n",
       "      <td>80.0</td>\n",
       "      <td>9600</td>\n",
       "      <td>Pave</td>\n",
       "      <td>NaN</td>\n",
       "      <td>Reg</td>\n",
       "      <td>Lvl</td>\n",
       "      <td>AllPub</td>\n",
       "      <td>...</td>\n",
       "      <td>0</td>\n",
       "      <td>NaN</td>\n",
       "      <td>NaN</td>\n",
       "      <td>NaN</td>\n",
       "      <td>0</td>\n",
       "      <td>5</td>\n",
       "      <td>2007</td>\n",
       "      <td>WD</td>\n",
       "      <td>Normal</td>\n",
       "      <td>181500</td>\n",
       "    </tr>\n",
       "    <tr>\n",
       "      <th>2</th>\n",
       "      <td>3</td>\n",
       "      <td>60</td>\n",
       "      <td>RL</td>\n",
       "      <td>68.0</td>\n",
       "      <td>11250</td>\n",
       "      <td>Pave</td>\n",
       "      <td>NaN</td>\n",
       "      <td>IR1</td>\n",
       "      <td>Lvl</td>\n",
       "      <td>AllPub</td>\n",
       "      <td>...</td>\n",
       "      <td>0</td>\n",
       "      <td>NaN</td>\n",
       "      <td>NaN</td>\n",
       "      <td>NaN</td>\n",
       "      <td>0</td>\n",
       "      <td>9</td>\n",
       "      <td>2008</td>\n",
       "      <td>WD</td>\n",
       "      <td>Normal</td>\n",
       "      <td>223500</td>\n",
       "    </tr>\n",
       "    <tr>\n",
       "      <th>3</th>\n",
       "      <td>4</td>\n",
       "      <td>70</td>\n",
       "      <td>RL</td>\n",
       "      <td>60.0</td>\n",
       "      <td>9550</td>\n",
       "      <td>Pave</td>\n",
       "      <td>NaN</td>\n",
       "      <td>IR1</td>\n",
       "      <td>Lvl</td>\n",
       "      <td>AllPub</td>\n",
       "      <td>...</td>\n",
       "      <td>0</td>\n",
       "      <td>NaN</td>\n",
       "      <td>NaN</td>\n",
       "      <td>NaN</td>\n",
       "      <td>0</td>\n",
       "      <td>2</td>\n",
       "      <td>2006</td>\n",
       "      <td>WD</td>\n",
       "      <td>Abnorml</td>\n",
       "      <td>140000</td>\n",
       "    </tr>\n",
       "    <tr>\n",
       "      <th>4</th>\n",
       "      <td>5</td>\n",
       "      <td>60</td>\n",
       "      <td>RL</td>\n",
       "      <td>84.0</td>\n",
       "      <td>14260</td>\n",
       "      <td>Pave</td>\n",
       "      <td>NaN</td>\n",
       "      <td>IR1</td>\n",
       "      <td>Lvl</td>\n",
       "      <td>AllPub</td>\n",
       "      <td>...</td>\n",
       "      <td>0</td>\n",
       "      <td>NaN</td>\n",
       "      <td>NaN</td>\n",
       "      <td>NaN</td>\n",
       "      <td>0</td>\n",
       "      <td>12</td>\n",
       "      <td>2008</td>\n",
       "      <td>WD</td>\n",
       "      <td>Normal</td>\n",
       "      <td>250000</td>\n",
       "    </tr>\n",
       "  </tbody>\n",
       "</table>\n",
       "<p>5 rows × 81 columns</p>\n",
       "</div>"
      ],
      "text/plain": [
       "   Id  MSSubClass MSZoning  LotFrontage  LotArea Street Alley LotShape  \\\n",
       "0   1          60       RL         65.0     8450   Pave   NaN      Reg   \n",
       "1   2          20       RL         80.0     9600   Pave   NaN      Reg   \n",
       "2   3          60       RL         68.0    11250   Pave   NaN      IR1   \n",
       "3   4          70       RL         60.0     9550   Pave   NaN      IR1   \n",
       "4   5          60       RL         84.0    14260   Pave   NaN      IR1   \n",
       "\n",
       "  LandContour Utilities  ... PoolArea PoolQC Fence MiscFeature MiscVal MoSold  \\\n",
       "0         Lvl    AllPub  ...        0    NaN   NaN         NaN       0      2   \n",
       "1         Lvl    AllPub  ...        0    NaN   NaN         NaN       0      5   \n",
       "2         Lvl    AllPub  ...        0    NaN   NaN         NaN       0      9   \n",
       "3         Lvl    AllPub  ...        0    NaN   NaN         NaN       0      2   \n",
       "4         Lvl    AllPub  ...        0    NaN   NaN         NaN       0     12   \n",
       "\n",
       "  YrSold  SaleType  SaleCondition  SalePrice  \n",
       "0   2008        WD         Normal     208500  \n",
       "1   2007        WD         Normal     181500  \n",
       "2   2008        WD         Normal     223500  \n",
       "3   2006        WD        Abnorml     140000  \n",
       "4   2008        WD         Normal     250000  \n",
       "\n",
       "[5 rows x 81 columns]"
      ]
     },
     "execution_count": 5,
     "metadata": {},
     "output_type": "execute_result"
    }
   ],
   "source": [
    "prices.head()"
   ]
  },
  {
   "cell_type": "code",
   "execution_count": 6,
   "id": "cea9ce1e-61f3-403c-aca9-0333aabd9f93",
   "metadata": {},
   "outputs": [
    {
     "data": {
      "text/plain": [
       "PoolQC          1.00\n",
       "MiscFeature     0.96\n",
       "Alley           0.94\n",
       "Fence           0.81\n",
       "MasVnrType      0.60\n",
       "FireplaceQu     0.47\n",
       "LotFrontage     0.18\n",
       "GarageYrBlt     0.06\n",
       "GarageCond      0.06\n",
       "GarageType      0.06\n",
       "GarageFinish    0.06\n",
       "GarageQual      0.06\n",
       "BsmtFinType2    0.03\n",
       "BsmtExposure    0.03\n",
       "BsmtQual        0.03\n",
       "BsmtCond        0.03\n",
       "BsmtFinType1    0.03\n",
       "MasVnrArea      0.01\n",
       "Electrical      0.00\n",
       "Id              0.00\n",
       "dtype: float64"
      ]
     },
     "execution_count": 6,
     "metadata": {},
     "output_type": "execute_result"
    }
   ],
   "source": [
    "#percent of missing values\n",
    "freq_na = prices.isna().mean()\n",
    "freq_na.sort_values(ascending=False).head(20).round(2)"
   ]
  },
  {
   "cell_type": "code",
   "execution_count": 7,
   "id": "e0af6efe-a7c1-4dc6-aa1f-2c5a5f66a037",
   "metadata": {},
   "outputs": [],
   "source": [
    "# drop columns with na share > 40%\n",
    "prices.drop(prices.columns[freq_na > 0.4], inplace=True, axis=1)"
   ]
  },
  {
   "cell_type": "code",
   "execution_count": 8,
   "id": "858098cd-12d3-4df2-8001-9e89e0869757",
   "metadata": {},
   "outputs": [
    {
     "data": {
      "text/plain": [
       "object     37\n",
       "int64      35\n",
       "float64     3\n",
       "Name: count, dtype: int64"
      ]
     },
     "execution_count": 8,
     "metadata": {},
     "output_type": "execute_result"
    }
   ],
   "source": [
    "# number of each type of column\n",
    "prices.dtypes.value_counts()"
   ]
  },
  {
   "cell_type": "code",
   "execution_count": 9,
   "id": "13e31266-f41a-4279-9a10-3bb39e9b5309",
   "metadata": {},
   "outputs": [
    {
     "data": {
      "text/plain": [
       "MSZoning          5\n",
       "Street            2\n",
       "LotShape          4\n",
       "LandContour       4\n",
       "Utilities         2\n",
       "LotConfig         5\n",
       "LandSlope         3\n",
       "Neighborhood     25\n",
       "Condition1        9\n",
       "Condition2        8\n",
       "BldgType          5\n",
       "HouseStyle        8\n",
       "RoofStyle         6\n",
       "RoofMatl          8\n",
       "Exterior1st      15\n",
       "Exterior2nd      16\n",
       "ExterQual         4\n",
       "ExterCond         5\n",
       "Foundation        6\n",
       "BsmtQual          4\n",
       "BsmtCond          4\n",
       "BsmtExposure      4\n",
       "BsmtFinType1      6\n",
       "BsmtFinType2      6\n",
       "Heating           6\n",
       "HeatingQC         5\n",
       "CentralAir        2\n",
       "Electrical        5\n",
       "KitchenQual       4\n",
       "Functional        7\n",
       "GarageType        6\n",
       "GarageFinish      3\n",
       "GarageQual        5\n",
       "GarageCond        5\n",
       "PavedDrive        3\n",
       "SaleType          9\n",
       "SaleCondition     6\n",
       "dtype: int64"
      ]
     },
     "execution_count": 9,
     "metadata": {},
     "output_type": "execute_result"
    }
   ],
   "source": [
    "# number of unique classes in each object column\n",
    "prices.select_dtypes('object').apply(pd.Series.nunique, axis = 0)"
   ]
  },
  {
   "cell_type": "code",
   "execution_count": 10,
   "id": "c4e3dbcd-d4e6-46ba-959f-fb888bac76f5",
   "metadata": {},
   "outputs": [],
   "source": [
    "# X = prices.drop(columns = ['SalePrice'])\n",
    "# y = prices['SalePrice']\n",
    "\n",
    "# X_train, X_test, y_train, y_test = train_test_split(X, y, test_size=0.33, random_state=42)\n",
    "\n",
    "# pipeline = make_pipeline(TargetEncoder(),\n",
    "#     SimpleImputer(strategy = 'constant'),\n",
    "#                      MinMaxScaler(feature_range = (0, 1)),\n",
    "#                      KNeighborsRegressor(n_neighbors = 4, weights='distance'))\n",
    "                     \n",
    "# pipeline.fit(X_train, y_train)\n",
    "# preds = pipeline.predict(X_test)\n",
    "\n",
    "# # te = TargetEncoder()\n",
    "# # te.fit(X_train, y_train)\n",
    "# # X_train = te.transform(X_train)\n",
    "# # X_test = te.transform(X_test)\n",
    "\n",
    "# # imputer = SimpleImputer(strategy = 'constant')\n",
    "# # imputer.fit(X_train)\n",
    "# # X_train = imputer.transform(X_train)\n",
    "# # X_test = imputer.transform(X_test)\n",
    "\n",
    "# # scaler = MinMaxScaler(feature_range = (0, 1))\n",
    "# # scaler.fit(X_train)\n",
    "# # X_train = scaler.transform(X_train)\n",
    "# # X_test = scaler.transform(X_test)\n",
    "\n",
    "# # knn = KNeighborsRegressor(n_neighbors = 4, weights='distance')\n",
    "# # knn.fit(X_train, y_train)\n",
    "# # preds = knn.predict(X_test)\n",
    "\n",
    "# print('MAE: ' + str(mean_absolute_error(y_test, preds)))\n",
    "# print('MSE: ' + str(mean_squared_error(y_test, preds)))"
   ]
  },
  {
   "cell_type": "code",
   "execution_count": 11,
   "id": "320f9e03-d903-422b-b973-6af05c37c219",
   "metadata": {},
   "outputs": [
    {
     "name": "stdout",
     "output_type": "stream",
     "text": [
      "MSE from Cross-Validation: 1687667610.58\n",
      "Fold Scores: [1.44909915e+09 1.87693883e+09 1.90396148e+09 1.13513187e+09\n",
      " 2.07320673e+09]\n"
     ]
    }
   ],
   "source": [
    "# pipeline for for encoding, scaling, filling gaps and training, cross validation\n",
    "from sklearn.neighbors import KNeighborsRegressor\n",
    "from sklearn.impute import SimpleImputer\n",
    "from category_encoders import TargetEncoder\n",
    "from sklearn.preprocessing import MinMaxScaler\n",
    "from sklearn.model_selection import train_test_split\n",
    "from sklearn.metrics import mean_absolute_error\n",
    "from sklearn.metrics import mean_squared_error\n",
    "from sklearn.pipeline import make_pipeline\n",
    "from sklearn.model_selection import cross_validate\n",
    "\n",
    "X = prices.drop(columns=['SalePrice'])\n",
    "y = prices['SalePrice']\n",
    "\n",
    "pipeline = make_pipeline(TargetEncoder(),             # Encode categorical features based on the target\n",
    "                         SimpleImputer(strategy='constant'),  # Handle missing values\n",
    "                         MinMaxScaler(feature_range=(0, 1)),  # Scale features to the range [0, 1]\n",
    "                         KNeighborsRegressor(n_neighbors=4, weights='distance')  # KNN Regressor\n",
    "                        )\n",
    "\n",
    "cv_results = cross_validate(pipeline,\n",
    "                            X, y,\n",
    "                            cv=5,\n",
    "                            scoring='neg_mean_squared_error',\n",
    "                            return_train_score=False\n",
    "                           )\n",
    "\n",
    "mean_test_score = -cv_results['test_score'].mean()\n",
    "\n",
    "print(f\"MSE from Cross-Validation: {mean_test_score:.2f}\")\n",
    "print(\"Fold Scores:\", -cv_results['test_score'])"
   ]
  },
  {
   "cell_type": "code",
   "execution_count": 12,
   "id": "be8f19f9-4d07-4d38-84f3-e950265cdfe4",
   "metadata": {},
   "outputs": [
    {
     "name": "stdout",
     "output_type": "stream",
     "text": [
      "Training Data Shape:  (1460, 75)\n",
      "Testing Data Shape:  (1459, 74)\n"
     ]
    }
   ],
   "source": [
    "#load test data and align with train\n",
    "prices_test = pd.read_csv('House Prices/test.csv')\n",
    "\n",
    "prices_labels = prices['SalePrice']\n",
    "prices, prices_test  = prices.align(prices_test, join = 'inner', axis = 1)\n",
    "prices['SalePrice'] = prices_labels\n",
    "\n",
    "print('Training Data Shape: ', prices.shape)\n",
    "print('Testing Data Shape: ', prices_test.shape)"
   ]
  },
  {
   "cell_type": "code",
   "execution_count": 13,
   "id": "27ba4d08-1a42-4581-915e-32d8ed257ebe",
   "metadata": {},
   "outputs": [],
   "source": [
    "#train on full train set and making predictions with test data\n",
    "X = prices.drop(columns=['SalePrice'])\n",
    "y = prices['SalePrice']\n",
    "\n",
    "pipeline = make_pipeline(TargetEncoder(),             # Encode categorical features based on the target\n",
    "                         SimpleImputer(strategy='constant'),  # Handle missing values\n",
    "                         MinMaxScaler(feature_range=(0, 1)),  # Scale features to the range [0, 1]\n",
    "                         KNeighborsRegressor(n_neighbors=4, weights='distance')  # KNN Regressor\n",
    "                        )\n",
    "\n",
    "pipeline.fit(X, y)\n",
    "preds = pipeline.predict(prices_test)"
   ]
  },
  {
   "cell_type": "code",
   "execution_count": 14,
   "id": "e3b23e68-00b1-4651-a9e2-41254ce5aa1f",
   "metadata": {},
   "outputs": [
    {
     "data": {
      "text/html": [
       "<div>\n",
       "<style scoped>\n",
       "    .dataframe tbody tr th:only-of-type {\n",
       "        vertical-align: middle;\n",
       "    }\n",
       "\n",
       "    .dataframe tbody tr th {\n",
       "        vertical-align: top;\n",
       "    }\n",
       "\n",
       "    .dataframe thead th {\n",
       "        text-align: right;\n",
       "    }\n",
       "</style>\n",
       "<table border=\"1\" class=\"dataframe\">\n",
       "  <thead>\n",
       "    <tr style=\"text-align: right;\">\n",
       "      <th></th>\n",
       "      <th>Id</th>\n",
       "      <th>SalePrice</th>\n",
       "    </tr>\n",
       "  </thead>\n",
       "  <tbody>\n",
       "    <tr>\n",
       "      <th>0</th>\n",
       "      <td>1461</td>\n",
       "      <td>129390.293889</td>\n",
       "    </tr>\n",
       "    <tr>\n",
       "      <th>1</th>\n",
       "      <td>1462</td>\n",
       "      <td>140904.571794</td>\n",
       "    </tr>\n",
       "    <tr>\n",
       "      <th>2</th>\n",
       "      <td>1463</td>\n",
       "      <td>198811.051398</td>\n",
       "    </tr>\n",
       "    <tr>\n",
       "      <th>3</th>\n",
       "      <td>1464</td>\n",
       "      <td>211070.560337</td>\n",
       "    </tr>\n",
       "    <tr>\n",
       "      <th>4</th>\n",
       "      <td>1465</td>\n",
       "      <td>196307.368756</td>\n",
       "    </tr>\n",
       "  </tbody>\n",
       "</table>\n",
       "</div>"
      ],
      "text/plain": [
       "     Id      SalePrice\n",
       "0  1461  129390.293889\n",
       "1  1462  140904.571794\n",
       "2  1463  198811.051398\n",
       "3  1464  211070.560337\n",
       "4  1465  196307.368756"
      ]
     },
     "execution_count": 14,
     "metadata": {},
     "output_type": "execute_result"
    }
   ],
   "source": [
    "#create submission\n",
    "submit_prices = pd.DataFrame(prices_test['Id'])\n",
    "submit_prices['SalePrice'] = preds\n",
    "submit_prices.head()"
   ]
  },
  {
   "cell_type": "code",
   "execution_count": 15,
   "id": "934116f3-b47b-46f9-a153-d4a051ef944c",
   "metadata": {},
   "outputs": [],
   "source": [
    "submit_prices.to_csv('submit_prices_1.csv', index=False)"
   ]
  }
 ],
 "metadata": {
  "kernelspec": {
   "display_name": "Python 3 (ipykernel)",
   "language": "python",
   "name": "python3"
  },
  "language_info": {
   "codemirror_mode": {
    "name": "ipython",
    "version": 3
   },
   "file_extension": ".py",
   "mimetype": "text/x-python",
   "name": "python",
   "nbconvert_exporter": "python",
   "pygments_lexer": "ipython3",
   "version": "3.11.7"
  }
 },
 "nbformat": 4,
 "nbformat_minor": 5
}
