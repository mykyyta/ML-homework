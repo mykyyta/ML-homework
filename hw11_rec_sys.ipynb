{
 "cells": [
  {
   "cell_type": "code",
   "execution_count": 2,
   "id": "06322278-e3e3-41d2-89cc-09a09e8592de",
   "metadata": {},
   "outputs": [],
   "source": [
    "import pandas as pd\n",
    "import numpy as np\n",
    "import matplotlib.pyplot as plt\n",
    "import seaborn as sns"
   ]
  },
  {
   "cell_type": "code",
   "execution_count": 3,
   "id": "90d41cb8-95d2-4583-a282-2b7ee4cd131c",
   "metadata": {},
   "outputs": [],
   "source": [
    "from implicit.datasets.lastfm import get_lastfm\n",
    "from implicit.als import AlternatingLeastSquares\n",
    "from implicit.nearest_neighbours import bm25_weight\n",
    "from surprise import Dataset, NormalPredictor, Reader, accuracy, SVD\n",
    "from surprise.model_selection import cross_validate\n",
    "from surprise.model_selection import train_test_split, KFold\n",
    "from collections import defaultdict\n",
    "from surprise.prediction_algorithms import KNNBasic, SlopeOne\n",
    "from sklearn.metrics import ndcg_score\n",
    "from sklearn.model_selection import LeaveOneOut"
   ]
  },
  {
   "cell_type": "code",
   "execution_count": 4,
   "id": "9ef256fc-81a6-4c6b-919d-e06dfa85efc0",
   "metadata": {},
   "outputs": [],
   "source": [
    "#load dataset from implicit\n",
    "artists, users, plays = get_lastfm()"
   ]
  },
  {
   "cell_type": "code",
   "execution_count": 5,
   "id": "ca129850-98ca-41c5-ae55-31b21ee5d01a",
   "metadata": {},
   "outputs": [
    {
     "name": "stdout",
     "output_type": "stream",
     "text": [
      "292385\n",
      "358868\n"
     ]
    },
    {
     "data": {
      "text/plain": [
       "(292385, 358868)"
      ]
     },
     "execution_count": 5,
     "metadata": {},
     "output_type": "execute_result"
    }
   ],
   "source": [
    "#вирішив викорстита більш оригінальний датасет, але коли почав з ним працювати зрозумів, що він дуже великий, \n",
    "#і обчислюється досить довго, тому використав лише семпл з нього\n",
    "print(len(artists))\n",
    "print(len(users))\n",
    "plays.shape"
   ]
  },
  {
   "cell_type": "code",
   "execution_count": 6,
   "id": "a0c23ba2-6ef2-4e41-818f-40aab686bf55",
   "metadata": {},
   "outputs": [],
   "source": [
    "#convert data into rating score \n",
    "plays = bm25_weight(plays, K1=100, B=0.8)"
   ]
  },
  {
   "cell_type": "code",
   "execution_count": 7,
   "id": "366f99fe-e271-4af5-b5e2-fed98b4d3314",
   "metadata": {},
   "outputs": [
    {
     "name": "stdout",
     "output_type": "stream",
     "text": [
      "max score  1175.5418122047477\n",
      "min score  0.0\n"
     ]
    }
   ],
   "source": [
    "#max and min score\n",
    "plays_coo = plays.tocoo()\n",
    "print('max score ', plays_coo.max())\n",
    "print('min score ', plays_coo.min())"
   ]
  },
  {
   "cell_type": "code",
   "execution_count": 8,
   "id": "0bc7851e-2dec-4fb7-bb71-8369318e67c2",
   "metadata": {},
   "outputs": [
    {
     "data": {
      "text/html": [
       "<div>\n",
       "<style scoped>\n",
       "    .dataframe tbody tr th:only-of-type {\n",
       "        vertical-align: middle;\n",
       "    }\n",
       "\n",
       "    .dataframe tbody tr th {\n",
       "        vertical-align: top;\n",
       "    }\n",
       "\n",
       "    .dataframe thead th {\n",
       "        text-align: right;\n",
       "    }\n",
       "</style>\n",
       "<table border=\"1\" class=\"dataframe\">\n",
       "  <thead>\n",
       "    <tr style=\"text-align: right;\">\n",
       "      <th></th>\n",
       "      <th>artist</th>\n",
       "      <th>user</th>\n",
       "      <th>rating</th>\n",
       "    </tr>\n",
       "  </thead>\n",
       "  <tbody>\n",
       "    <tr>\n",
       "      <th>2840458</th>\n",
       "      <td>60442</td>\n",
       "      <td>229199</td>\n",
       "      <td>1.854471</td>\n",
       "    </tr>\n",
       "    <tr>\n",
       "      <th>13524402</th>\n",
       "      <td>232725</td>\n",
       "      <td>264341</td>\n",
       "      <td>9.914631</td>\n",
       "    </tr>\n",
       "    <tr>\n",
       "      <th>5381189</th>\n",
       "      <td>110375</td>\n",
       "      <td>205327</td>\n",
       "      <td>24.440371</td>\n",
       "    </tr>\n",
       "    <tr>\n",
       "      <th>5899541</th>\n",
       "      <td>118421</td>\n",
       "      <td>111052</td>\n",
       "      <td>35.793097</td>\n",
       "    </tr>\n",
       "    <tr>\n",
       "      <th>14904867</th>\n",
       "      <td>252512</td>\n",
       "      <td>83215</td>\n",
       "      <td>1.714201</td>\n",
       "    </tr>\n",
       "  </tbody>\n",
       "</table>\n",
       "</div>"
      ],
      "text/plain": [
       "          artist    user     rating\n",
       "2840458    60442  229199   1.854471\n",
       "13524402  232725  264341   9.914631\n",
       "5381189   110375  205327  24.440371\n",
       "5899541   118421  111052  35.793097\n",
       "14904867  252512   83215   1.714201"
      ]
     },
     "execution_count": 8,
     "metadata": {},
     "output_type": "execute_result"
    }
   ],
   "source": [
    "#convert to pandas\n",
    "data = pd.Series.sparse.from_coo(plays_coo).reset_index()\n",
    "data.columns = ('artist', 'user', 'rating')\n",
    "data.sample(5)"
   ]
  },
  {
   "cell_type": "code",
   "execution_count": 9,
   "id": "e7407756-3471-4a20-bff4-f602e8d6a1b3",
   "metadata": {},
   "outputs": [],
   "source": [
    "artist_gb = data.groupby('artist')['user'].count()"
   ]
  },
  {
   "cell_type": "code",
   "execution_count": 10,
   "id": "0734f151-5097-44da-b088-0e6616b1f642",
   "metadata": {},
   "outputs": [
    {
     "data": {
      "text/plain": [
       "<Axes: ylabel='Frequency'>"
      ]
     },
     "execution_count": 10,
     "metadata": {},
     "output_type": "execute_result"
    },
    {
     "data": {
      "image/png": "[encoded data removed]",
      "text/plain": [
       "<Figure size 640x480 with 1 Axes>"
      ]
     },
     "metadata": {},
     "output_type": "display_data"
    }
   ],
   "source": [
    "#dist of artists\n",
    "np.log(artist_gb).plot.hist(bins=50)"
   ]
  },
  {
   "cell_type": "code",
   "execution_count": 11,
   "id": "a5339646-7f9e-47d9-b269-09a3604163a2",
   "metadata": {},
   "outputs": [],
   "source": [
    "#drop low frequency artists\n",
    "data = data[data['artist'].isin(artist_gb[artist_gb>5000].index)]"
   ]
  },
  {
   "cell_type": "code",
   "execution_count": 12,
   "id": "a95df4ba-8ca5-4579-936c-2976f2a4b6c0",
   "metadata": {},
   "outputs": [],
   "source": [
    "#sample 3% of users\n",
    "users_gb = data.groupby('user')['artist'].count()\n",
    "users_gb = users_gb.sample(frac=0.03, random_state=42)\n",
    "data = data[data['user'].isin(users_gb.index)]"
   ]
  },
  {
   "cell_type": "code",
   "execution_count": 13,
   "id": "828210d6-f733-46b5-9e1a-d9bf1135e9a8",
   "metadata": {},
   "outputs": [
    {
     "name": "stdout",
     "output_type": "stream",
     "text": [
      "length of data: 197417\n"
     ]
    }
   ],
   "source": [
    "print('length of data:', len(data))"
   ]
  },
  {
   "cell_type": "code",
   "execution_count": 14,
   "id": "c5fff3c1-72bc-470a-9caf-6aeeb6e21ffc",
   "metadata": {},
   "outputs": [],
   "source": [
    "#convert data to Suprise dataset \n",
    "reader = Reader(rating_scale=(0, 1176))\n",
    "dataset = Dataset.load_from_df(data[['user', 'artist', 'rating']], reader)\n",
    "#split dataset to train and test by Surprise method\n",
    "trainset, testset = train_test_split(dataset, test_size=0.25)"
   ]
  },
  {
   "cell_type": "code",
   "execution_count": 15,
   "id": "b9c79cfd-a6b7-4fb8-bb7b-e74c6b94f06d",
   "metadata": {},
   "outputs": [],
   "source": [
    "#antitrainset to find rank of all items for all users but not only for  those from train and test\n",
    "antitrainset = trainset.build_anti_testset()"
   ]
  },
  {
   "cell_type": "code",
   "execution_count": 16,
   "id": "7e1ddb7a-a3cc-43ec-8b07-c3348c594b8c",
   "metadata": {},
   "outputs": [],
   "source": [
    "#popularity rating as baseline recomendation\n",
    "popularity = data.groupby('artist')['user'].agg(['count']).reset_index()\n",
    "popularity.columns = ['iid', 'rating']"
   ]
  },
  {
   "cell_type": "code",
   "execution_count": 17,
   "id": "9f49fd40-cf9f-4254-a31a-9725ad16c1ba",
   "metadata": {},
   "outputs": [],
   "source": [
    "#top50 most popular artists\n",
    "top_50 = np.asarray(popularity.sort_values('rating', ascending=False).head(50))"
   ]
  },
  {
   "cell_type": "code",
   "execution_count": 18,
   "id": "455cf3d4-2aad-4caf-b575-8b6cb5b798ef",
   "metadata": {},
   "outputs": [
    {
     "name": "stdout",
     "output_type": "stream",
     "text": [
      "RMSE: 17.5385\n"
     ]
    },
    {
     "data": {
      "text/plain": [
       "17.538546021742597"
      ]
     },
     "execution_count": 18,
     "metadata": {},
     "output_type": "execute_result"
    }
   ],
   "source": [
    "algo = SlopeOne() # NormalPredictor(), SVD(), KNNBasic()\n",
    "# Train the algorithm on the trainset, and predict ratings for the testset and antitrainset\n",
    "algo.fit(trainset)\n",
    "predictions = algo.test(testset)\n",
    "predictions_anti = algo.test(antitrainset)\n",
    "\n",
    "accuracy.rmse(predictions)"
   ]
  },
  {
   "cell_type": "code",
   "execution_count": 19,
   "id": "9479587a-f5a6-4d38-8c13-e673dc7a5945",
   "metadata": {},
   "outputs": [
    {
     "data": {
      "text/plain": [
       "0.9150299420524285"
      ]
     },
     "execution_count": 19,
     "metadata": {},
     "output_type": "execute_result"
    }
   ],
   "source": [
    "#ndcg for model (testset)\n",
    "preds = pd.DataFrame(predictions)\n",
    "uid_cnt = preds.groupby('uid')['est'].count()\n",
    "preds = preds[preds['uid'].isin(uid_cnt[uid_cnt>1].index)]\n",
    "\n",
    "ndcg = []\n",
    "for uid in preds['uid'].unique():\n",
    "    df = preds.loc[preds['uid'] == uid]\n",
    "    true_relevance = np.asarray([list(df['r_ui'])])\n",
    "    scores = np.asarray([list(df['est'])])\n",
    "    ndcg.append(ndcg_score(true_relevance, scores))\n",
    "np.mean(ndcg)"
   ]
  },
  {
   "cell_type": "code",
   "execution_count": 20,
   "id": "8df54dd1-1325-477a-b626-be7cd8472a0f",
   "metadata": {},
   "outputs": [],
   "source": [
    "preds = pd.merge(left = preds, right = popularity, how = 'left', on = 'iid')"
   ]
  },
  {
   "cell_type": "code",
   "execution_count": 21,
   "id": "06b624b5-cc5b-46d8-86cf-38b83319b5ae",
   "metadata": {},
   "outputs": [
    {
     "data": {
      "text/plain": [
       "0.7035684035813634"
      ]
     },
     "execution_count": 21,
     "metadata": {},
     "output_type": "execute_result"
    }
   ],
   "source": [
    "#ndcg for baseline (testset)\n",
    "ndcg = []\n",
    "for uid in preds['uid'].unique():\n",
    "    df = preds.loc[preds['uid'] == uid]\n",
    "    true_relevance = np.asarray([list(df['r_ui'])])\n",
    "    scores = np.asarray([list(df['rating'])])\n",
    "    ndcg.append(ndcg_score(true_relevance, scores))\n",
    "np.mean(ndcg)"
   ]
  },
  {
   "cell_type": "code",
   "execution_count": 22,
   "id": "253bdc64-3588-40da-9e80-2c514c8a86d6",
   "metadata": {},
   "outputs": [],
   "source": [
    "def precision_recall_at_k(predictions, k=10, threshold=3.5):\n",
    "    \"\"\"Return precision and recall at k metrics for each user\"\"\"\n",
    "\n",
    "    # First map the predictions to each user.\n",
    "    user_est_true = defaultdict(list)\n",
    "    for uid, _, true_r, est, _ in predictions:\n",
    "        user_est_true[uid].append((est, true_r))\n",
    "\n",
    "    precisions = dict()\n",
    "    recalls = dict()\n",
    "    for uid, user_ratings in user_est_true.items():\n",
    "\n",
    "        # Sort user ratings by estimated value\n",
    "        user_ratings.sort(key=lambda x: x[0], reverse=True)\n",
    "\n",
    "        # Number of relevant items\n",
    "        n_rel = sum((true_r >= threshold) for (_, true_r) in user_ratings)\n",
    "\n",
    "        # Number of recommended items in top k\n",
    "        n_rec_k = sum((est >= threshold) for (est, _) in user_ratings[:k])\n",
    "\n",
    "        # Number of relevant and recommended items in top k\n",
    "        n_rel_and_rec_k = sum(\n",
    "            ((true_r >= threshold) and (est >= threshold))\n",
    "            for (est, true_r) in user_ratings[:k]\n",
    "        )\n",
    "\n",
    "        # Precision@K: Proportion of recommended items that are relevant\n",
    "        # When n_rec_k is 0, Precision is undefined. We here set it to 0.\n",
    "\n",
    "        precisions[uid] = n_rel_and_rec_k / n_rec_k if n_rec_k != 0 else 0\n",
    "\n",
    "        # Recall@K: Proportion of relevant items that are recommended\n",
    "        # When n_rel is 0, Recall is undefined. We here set it to 0.\n",
    "\n",
    "        recalls[uid] = n_rel_and_rec_k / n_rel if n_rel != 0 else 0\n",
    "\n",
    "    return precisions, recalls"
   ]
  },
  {
   "cell_type": "code",
   "execution_count": 23,
   "id": "ff45daf1-ea97-4d8c-b6fc-97bc77e2034d",
   "metadata": {},
   "outputs": [
    {
     "name": "stdout",
     "output_type": "stream",
     "text": [
      "0.665098671495857\n",
      "0.7131857835798636\n"
     ]
    }
   ],
   "source": [
    "#precision and recall for testset\n",
    "precisions, recalls = precision_recall_at_k(predictions, k=50, threshold=3)\n",
    "print(sum(prec for prec in precisions.values()) / len(precisions))\n",
    "print(sum(rec for rec in recalls.values()) / len(recalls))"
   ]
  },
  {
   "cell_type": "code",
   "execution_count": 24,
   "id": "e5e66934-2cd3-42bd-bb73-19c8a759594d",
   "metadata": {},
   "outputs": [],
   "source": [
    "preds_anti = pd.DataFrame(predictions_anti)"
   ]
  },
  {
   "cell_type": "code",
   "execution_count": 25,
   "id": "bf1b164f-5f07-4b02-b7aa-3a60ce93ccc3",
   "metadata": {},
   "outputs": [
    {
     "name": "stderr",
     "output_type": "stream",
     "text": [
      "/var/folders/lr/w46g2hz506bgx6h0sb6v8_280000gp/T/ipykernel_4262/1293116300.py:6: SettingWithCopyWarning: \n",
      "A value is trying to be set on a copy of a slice from a DataFrame\n",
      "\n",
      "See the caveats in the documentation: https://pandas.pydata.org/pandas-docs/stable/user_guide/indexing.html#returning-a-view-versus-a-copy\n",
      "  preds_anti['r_ui_y'].loc[preds_anti['r_ui_y'].isna()] = 0\n"
     ]
    },
    {
     "data": {
      "text/html": [
       "<div>\n",
       "<style scoped>\n",
       "    .dataframe tbody tr th:only-of-type {\n",
       "        vertical-align: middle;\n",
       "    }\n",
       "\n",
       "    .dataframe tbody tr th {\n",
       "        vertical-align: top;\n",
       "    }\n",
       "\n",
       "    .dataframe thead th {\n",
       "        text-align: right;\n",
       "    }\n",
       "</style>\n",
       "<table border=\"1\" class=\"dataframe\">\n",
       "  <thead>\n",
       "    <tr style=\"text-align: right;\">\n",
       "      <th></th>\n",
       "      <th>uid</th>\n",
       "      <th>iid</th>\n",
       "      <th>r_ui_x</th>\n",
       "      <th>est</th>\n",
       "      <th>details</th>\n",
       "      <th>r_ui_y</th>\n",
       "    </tr>\n",
       "  </thead>\n",
       "  <tbody>\n",
       "    <tr>\n",
       "      <th>0</th>\n",
       "      <td>146338</td>\n",
       "      <td>269151</td>\n",
       "      <td>11.317644</td>\n",
       "      <td>0.187199</td>\n",
       "      <td>{'was_impossible': False}</td>\n",
       "      <td>0.0</td>\n",
       "    </tr>\n",
       "    <tr>\n",
       "      <th>1</th>\n",
       "      <td>146338</td>\n",
       "      <td>57504</td>\n",
       "      <td>11.317644</td>\n",
       "      <td>11.058221</td>\n",
       "      <td>{'was_impossible': False}</td>\n",
       "      <td>0.0</td>\n",
       "    </tr>\n",
       "    <tr>\n",
       "      <th>2</th>\n",
       "      <td>146338</td>\n",
       "      <td>258289</td>\n",
       "      <td>11.317644</td>\n",
       "      <td>6.375934</td>\n",
       "      <td>{'was_impossible': False}</td>\n",
       "      <td>0.0</td>\n",
       "    </tr>\n",
       "    <tr>\n",
       "      <th>3</th>\n",
       "      <td>146338</td>\n",
       "      <td>151370</td>\n",
       "      <td>11.317644</td>\n",
       "      <td>20.064352</td>\n",
       "      <td>{'was_impossible': False}</td>\n",
       "      <td>0.0</td>\n",
       "    </tr>\n",
       "    <tr>\n",
       "      <th>4</th>\n",
       "      <td>146338</td>\n",
       "      <td>136825</td>\n",
       "      <td>11.317644</td>\n",
       "      <td>15.640393</td>\n",
       "      <td>{'was_impossible': False}</td>\n",
       "      <td>0.0</td>\n",
       "    </tr>\n",
       "  </tbody>\n",
       "</table>\n",
       "</div>"
      ],
      "text/plain": [
       "      uid     iid     r_ui_x        est                    details  r_ui_y\n",
       "0  146338  269151  11.317644   0.187199  {'was_impossible': False}     0.0\n",
       "1  146338   57504  11.317644  11.058221  {'was_impossible': False}     0.0\n",
       "2  146338  258289  11.317644   6.375934  {'was_impossible': False}     0.0\n",
       "3  146338  151370  11.317644  20.064352  {'was_impossible': False}     0.0\n",
       "4  146338  136825  11.317644  15.640393  {'was_impossible': False}     0.0"
      ]
     },
     "execution_count": 25,
     "metadata": {},
     "output_type": "execute_result"
    }
   ],
   "source": [
    "preds_anti = pd.merge(left = preds_anti, \n",
    "                           right = preds[['uid', 'iid', 'r_ui']],\n",
    "                           how = 'left',\n",
    "                           on = ['uid', 'iid']\n",
    "                          )\n",
    "preds_anti['r_ui_y'].loc[preds_anti['r_ui_y'].isna()] = 0\n",
    "preds_anti.head()"
   ]
  },
  {
   "cell_type": "code",
   "execution_count": 26,
   "id": "9caa89eb-d67f-4def-8e5f-97af37d4e311",
   "metadata": {},
   "outputs": [],
   "source": [
    "uid_cnt_anti = preds_anti.groupby('uid')['iid'].count()"
   ]
  },
  {
   "cell_type": "code",
   "execution_count": 27,
   "id": "4283070b-d682-4c09-94d9-95f9da80830e",
   "metadata": {},
   "outputs": [],
   "source": [
    "preds_anti = pd.merge(left = preds_anti, right = popularity, how = 'left', on = 'iid')\n",
    "preds_anti = preds_anti[preds_anti['uid'].isin(uid_cnt_anti[uid_cnt_anti>1].index)]"
   ]
  },
  {
   "cell_type": "code",
   "execution_count": 28,
   "id": "467183ea-c950-467b-98d1-825416b60c0a",
   "metadata": {},
   "outputs": [
    {
     "name": "stdout",
     "output_type": "stream",
     "text": [
      "\n",
      "Model NDCG(k=100):  0.03163050797417398\n"
     ]
    }
   ],
   "source": [
    "#ndcg, k=100, model\n",
    "ndcg = []\n",
    "for uid in preds_anti['uid'].unique():\n",
    "    df = preds_anti.loc[preds_anti['uid'] == uid]\n",
    "    true_relevance = np.asarray([list(df['r_ui_y'])])\n",
    "    scores = np.asarray([list(df['est'])])\n",
    "    ndcg.append(ndcg_score(true_relevance, scores,k=100))\n",
    "print('\\nModel NDCG(k=100): ', np.mean(ndcg))"
   ]
  },
  {
   "cell_type": "code",
   "execution_count": 29,
   "id": "545affa5-e917-4736-a370-ca228203ff3e",
   "metadata": {},
   "outputs": [
    {
     "name": "stdout",
     "output_type": "stream",
     "text": [
      "\n",
      "Baseline NDCG(k=100):  0.05978736180040191\n"
     ]
    }
   ],
   "source": [
    "#ndcg, k=100, baseline\n",
    "ndcg = []\n",
    "for uid in preds_anti['uid'].unique():\n",
    "    df = preds_anti.loc[preds_anti['uid'] == uid]\n",
    "    true_relevance = np.asarray([list(df['r_ui_y'])])\n",
    "    scores = np.asarray([list(df['rating'])])\n",
    "    ndcg.append(ndcg_score(true_relevance, scores,k=100))\n",
    "print('\\nBaseline NDCG(k=100): ', np.mean(ndcg))"
   ]
  },
  {
   "cell_type": "code",
   "execution_count": 30,
   "id": "571a7b02-de9f-4b8e-8e33-74f8ddf3411d",
   "metadata": {},
   "outputs": [],
   "source": [
    "def GetTopN(predictions, n=10, minimumRating=0.0):\n",
    "    \"\"\"\n",
    "    find top N recommendations\n",
    "    \"\"\"\n",
    "    topN = defaultdict(list)\n",
    "    for userID, movieID, actualRating, estimatedRating, _ in predictions:\n",
    "        if (estimatedRating >= minimumRating):\n",
    "            topN[int(userID)].append((int(movieID), estimatedRating))\n",
    "\n",
    "    for userID, ratings in topN.items():\n",
    "        ratings.sort(key=lambda x: x[1], reverse=True)\n",
    "        topN[int(userID)] = ratings[:n]\n",
    "\n",
    "    return topN"
   ]
  },
  {
   "cell_type": "code",
   "execution_count": 31,
   "id": "225042e8-b5c3-4127-b146-e9f3ad68db55",
   "metadata": {},
   "outputs": [],
   "source": [
    "#top 50 recommendations\n",
    "topNPredicted = GetTopN(predictions_anti, n=50)     "
   ]
  },
  {
   "cell_type": "code",
   "execution_count": 32,
   "id": "86c78629-90dd-47e9-bb62-dcb7fe5f758a",
   "metadata": {},
   "outputs": [],
   "source": [
    "#top 50 most popular(baseline)\n",
    "topNbaseline = defaultdict(list)\n",
    "for userID, _, _, _, _ in predictions_anti:\n",
    "    topNbaseline[int(userID)] = top_50         "
   ]
  },
  {
   "cell_type": "code",
   "execution_count": 33,
   "id": "7faa9d45-762b-431a-9c40-77f055c2a7ed",
   "metadata": {},
   "outputs": [
    {
     "name": "stdout",
     "output_type": "stream",
     "text": [
      "\n",
      "Baseline Hit Rate:  0.250552122378685\n",
      "\n",
      "Model Hit Rate:  0.036348900820585554\n"
     ]
    }
   ],
   "source": [
    "#hitrate \n",
    "def HitRate(topNPredicted, leftOutPredictions):\n",
    "    hits = 0\n",
    "    total = 0\n",
    "\n",
    "    for leftOut in leftOutPredictions:\n",
    "        userID = leftOut[0]\n",
    "        leftOutMovieID = leftOut[1]\n",
    "        hit = False\n",
    "        for movieID, predictedRating in topNPredicted[int(userID)]:\n",
    "            if (int(leftOutMovieID) == int(movieID)):\n",
    "                hit = True\n",
    "                break\n",
    "        if (hit) :\n",
    "            hits += 1\n",
    "\n",
    "        total += 1\n",
    "\n",
    "    return hits/total\n",
    "print('\\nBaseline Hit Rate: ', HitRate(topNbaseline, predictions))\n",
    "print('\\nModel Hit Rate: ', HitRate(topNPredicted, predictions))"
   ]
  },
  {
   "cell_type": "code",
   "execution_count": 34,
   "id": "79d73e17-37eb-4fc8-8350-80c7f42db798",
   "metadata": {},
   "outputs": [],
   "source": [
    "artist_pb = data.groupby('artist')['user'].count() "
   ]
  },
  {
   "cell_type": "code",
   "execution_count": 35,
   "id": "6bf753f3-a9a4-404b-9c03-5e70d184b1af",
   "metadata": {},
   "outputs": [
    {
     "name": "stdout",
     "output_type": "stream",
     "text": [
      "\n",
      "Baseline Novelty:  0.10103285282052335\n",
      "\n",
      "Model Novelty:  0.13400081596925406\n"
     ]
    }
   ],
   "source": [
    "#novelty for baseline\n",
    "novelty_list = []\n",
    "for uid in topNbaseline:\n",
    "    for artist, _ in topNbaseline[uid]:\n",
    "        novelty_list.append(1/(np.log2(1+artist_pb[artist])))\n",
    "np.mean(novelty_list)\n",
    "print('\\nBaseline Novelty: ', np.mean(novelty_list))\n",
    "\n",
    "#novelty for model\n",
    "novelty_list = []\n",
    "for uid in topNPredicted:\n",
    "    for artist, _ in topNPredicted[uid]:\n",
    "        novelty_list.append(1/(np.log2(1+artist_pb[artist])))\n",
    "print('\\nModel Novelty: ', np.mean(novelty_list))"
   ]
  }
 ],
 "metadata": {
  "kernelspec": {
   "display_name": "Python 3 (ipykernel)",
   "language": "python",
   "name": "python3"
  },
  "language_info": {
   "codemirror_mode": {
    "name": "ipython",
    "version": 3
   },
   "file_extension": ".py",
   "mimetype": "text/x-python",
   "name": "python",
   "nbconvert_exporter": "python",
   "pygments_lexer": "ipython3",
   "version": "3.11.7"
  }
 },
 "nbformat": 4,
 "nbformat_minor": 5
}
