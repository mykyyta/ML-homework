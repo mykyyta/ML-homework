{
 "cells": [
  {
   "cell_type": "code",
   "execution_count": 3,
   "id": "e754dbd9-1a00-46fe-84ba-6a8b65c1cbb0",
   "metadata": {},
   "outputs": [],
   "source": [
    "import pandas as pd\n",
    "import numpy as np"
   ]
  },
  {
   "cell_type": "code",
   "execution_count": 4,
   "id": "ca189e4c-98d9-4b98-8012-2507a65a873f",
   "metadata": {},
   "outputs": [
    {
     "name": "stdout",
     "output_type": "stream",
     "text": [
      "Training Data Shape:  (307511, 241)\n",
      "Testing Data Shape:  (48744, 240)\n"
     ]
    }
   ],
   "source": [
    "train = pd.read_csv('app_train_p2.csv', index_col=0)\n",
    "test = pd.read_csv('app_test_p2.csv', index_col=0)\n",
    "#можна взяти файли з минулої домашки\n",
    "\n",
    "print('Training Data Shape: ', train.shape)\n",
    "print('Testing Data Shape: ', test.shape)"
   ]
  },
  {
   "cell_type": "code",
   "execution_count": 5,
   "id": "130eae4f-f750-4dfb-a0dd-87e8c22fc0ee",
   "metadata": {},
   "outputs": [
    {
     "data": {
      "text/plain": [
       "0.587374856092683"
      ]
     },
     "execution_count": 5,
     "metadata": {},
     "output_type": "execute_result"
    }
   ],
   "source": [
    "# scaling, filling gaps, validation\n",
    "from sklearn.neighbors import KNeighborsClassifier\n",
    "from sklearn.impute import SimpleImputer\n",
    "from sklearn.preprocessing import MinMaxScaler\n",
    "from sklearn.model_selection import train_test_split\n",
    "from sklearn.pipeline import make_pipeline\n",
    "from sklearn.metrics import roc_auc_score\n",
    "\n",
    "X = train.drop(columns = ['TARGET'])\n",
    "y = train['TARGET']\n",
    "\n",
    "X_train, X_test, y_train, y_test = train_test_split(X, y, test_size=0.33, random_state=42)\n",
    "\n",
    "pipeline = make_pipeline(SimpleImputer(strategy='median'),  # Handle missing values\n",
    "                         MinMaxScaler(feature_range=(0, 1)),  # Scale features to the range [0, 1]\n",
    "                         KNeighborsClassifier(n_neighbors=15, weights='distance')  # KNN CLassifier\n",
    "                        )\n",
    "\n",
    "pipeline.fit(X_train, y_train)\n",
    "pred_proba = pipeline.predict_proba(X_test)[:, 1]\n",
    "roc_auc_score(y_test, pred_proba)"
   ]
  },
  {
   "cell_type": "code",
   "execution_count": 6,
   "id": "17fae33d-584d-4160-ab88-2e040f833243",
   "metadata": {},
   "outputs": [],
   "source": [
    "#training on all train data\n",
    "X = train.drop(columns = ['TARGET'])\n",
    "y = train['TARGET']\n",
    "\n",
    "pipeline = make_pipeline(SimpleImputer(strategy='median'),  # Handle missing values\n",
    "                         MinMaxScaler(feature_range=(0, 1)),  # Scale features to the range [0, 1]\n",
    "                         KNeighborsClassifier(n_neighbors=15, weights='distance')  # KNN CLassifier\n",
    "                        )\n",
    "\n",
    "pipeline.fit(X, y)\n",
    "sub_proba = pipeline.predict_proba(test)[:, 1]"
   ]
  },
  {
   "cell_type": "code",
   "execution_count": 7,
   "id": "8d1c0d4c-a4d2-46ed-aee3-2c1fd3ad926c",
   "metadata": {},
   "outputs": [
    {
     "data": {
      "text/html": [
       "<div>\n",
       "<style scoped>\n",
       "    .dataframe tbody tr th:only-of-type {\n",
       "        vertical-align: middle;\n",
       "    }\n",
       "\n",
       "    .dataframe tbody tr th {\n",
       "        vertical-align: top;\n",
       "    }\n",
       "\n",
       "    .dataframe thead th {\n",
       "        text-align: right;\n",
       "    }\n",
       "</style>\n",
       "<table border=\"1\" class=\"dataframe\">\n",
       "  <thead>\n",
       "    <tr style=\"text-align: right;\">\n",
       "      <th></th>\n",
       "      <th>SK_ID_CURR</th>\n",
       "      <th>TARGET</th>\n",
       "    </tr>\n",
       "  </thead>\n",
       "  <tbody>\n",
       "    <tr>\n",
       "      <th>0</th>\n",
       "      <td>100001</td>\n",
       "      <td>0.133360</td>\n",
       "    </tr>\n",
       "    <tr>\n",
       "      <th>1</th>\n",
       "      <td>100005</td>\n",
       "      <td>0.133454</td>\n",
       "    </tr>\n",
       "    <tr>\n",
       "      <th>2</th>\n",
       "      <td>100013</td>\n",
       "      <td>0.000000</td>\n",
       "    </tr>\n",
       "    <tr>\n",
       "      <th>3</th>\n",
       "      <td>100028</td>\n",
       "      <td>0.064540</td>\n",
       "    </tr>\n",
       "    <tr>\n",
       "      <th>4</th>\n",
       "      <td>100038</td>\n",
       "      <td>0.198828</td>\n",
       "    </tr>\n",
       "  </tbody>\n",
       "</table>\n",
       "</div>"
      ],
      "text/plain": [
       "   SK_ID_CURR    TARGET\n",
       "0      100001  0.133360\n",
       "1      100005  0.133454\n",
       "2      100013  0.000000\n",
       "3      100028  0.064540\n",
       "4      100038  0.198828"
      ]
     },
     "execution_count": 7,
     "metadata": {},
     "output_type": "execute_result"
    }
   ],
   "source": [
    "#submission\n",
    "submit = pd.DataFrame(test['SK_ID_CURR'])\n",
    "submit['TARGET'] = sub_proba\n",
    "\n",
    "submit.head()"
   ]
  },
  {
   "cell_type": "code",
   "execution_count": 8,
   "id": "302c42a8-393a-4638-9079-1b14ceabd602",
   "metadata": {},
   "outputs": [],
   "source": [
    "submit.to_csv('submit_KNN_1.csv', index = False)"
   ]
  }
 ],
 "metadata": {
  "kernelspec": {
   "display_name": "Python 3 (ipykernel)",
   "language": "python",
   "name": "python3"
  },
  "language_info": {
   "codemirror_mode": {
    "name": "ipython",
    "version": 3
   },
   "file_extension": ".py",
   "mimetype": "text/x-python",
   "name": "python",
   "nbconvert_exporter": "python",
   "pygments_lexer": "ipython3",
   "version": "3.11.7"
  }
 },
 "nbformat": 4,
 "nbformat_minor": 5
}
